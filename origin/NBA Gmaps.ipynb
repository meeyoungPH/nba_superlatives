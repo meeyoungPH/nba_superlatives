{
 "cells": [
  {
   "cell_type": "code",
   "execution_count": 1,
   "id": "dcb12612",
   "metadata": {},
   "outputs": [],
   "source": [
    "import pandas as pd\n",
    "import numpy as np\n",
    "import gmaps\n",
    "import pycountry\n",
    "\n",
    "# Import API key\n",
    "from api_keys import g_key\n",
    "\n",
    "#Output Folder Path\n",
    "path = \"output_data/\"\n",
    "\n",
    "# Access maps with unique API key\n",
    "gmaps.configure(api_key=g_key)\n",
    "\n",
    "#Read_csv_Path\n",
    "players_uscity_gloc_path = f\"{path}players_top10_uscity_gloc.csv\"\n",
    "players_intcity_gloc_path = f\"{path}players_top10_intcity_gloc.csv\"\n",
    "players_countries_gloc_path = f\"{path}players_top10_countries_gloc.csv\"\n",
    "players_uscity_path = f\"{path}players_top10_2022_uscity.csv\"\n",
    "players_intcity_path = f\"{path}players_top10_2022_intcity.csv\"\n",
    "players_countries_path = f\"{path}players_top10_2022_countries.csv\""
   ]
  },
  {
   "cell_type": "code",
   "execution_count": 2,
   "id": "e16d3d2c",
   "metadata": {},
   "outputs": [],
   "source": [
    "#Read SCV \n",
    "players_uscity_gloc = pd.read_csv(players_uscity_gloc_path)\n",
    "players_intcity_gloc = pd.read_csv(players_intcity_gloc_path)\n",
    "players_countries_gloc = pd.read_csv(players_countries_gloc_path)\n",
    "players_uscity = pd.read_csv(players_uscity_path)\n",
    "players_intcity = pd.read_csv(players_intcity_path)\n",
    "players_countries = pd.read_csv(players_countries_path)"
   ]
  },
  {
   "cell_type": "markdown",
   "id": "b5b37631",
   "metadata": {},
   "source": [
    "## Maps by US Cities"
   ]
  },
  {
   "cell_type": "code",
   "execution_count": 3,
   "id": "25fc16dd",
   "metadata": {},
   "outputs": [
    {
     "data": {
      "application/vnd.jupyter.widget-view+json": {
       "model_id": "589f6b7c5d594832801e71e31366495d",
       "version_major": 2,
       "version_minor": 0
      },
      "text/plain": [
       "Figure(layout=FigureLayout(border='1px solid black', height='450px', margin='0 auto 0 auto', padding='1px', wi…"
      ]
     },
     "metadata": {},
     "output_type": "display_data"
    }
   ],
   "source": [
    "#Create a list containing coordinates\n",
    "coordinates = list(zip(players_uscity_gloc[\"Lat\"],players_uscity_gloc[\"Lng\"]))\n",
    "\n",
    "# Customize the size of the figure\n",
    "figure_layout = {\n",
    "    'width': '450px',\n",
    "    'height': '450px',\n",
    "    'border': '1px solid black',\n",
    "    'padding': '1px',\n",
    "    'margin': '0 auto 0 auto'\n",
    "}\n",
    "\n",
    "#Creating the figure holder\n",
    "fig = gmaps.figure(map_type='HYBRID', layout=figure_layout)\n",
    "\n",
    "#Assign the heatmap layer to a variable\n",
    "heatmap = gmaps.heatmap_layer(coordinates, weights=players_uscity[\"Players\"], dissipating=False, point_radius=3)\n",
    "\n",
    "#Add the layer to the map\n",
    "fig.add_layer(heatmap)\n",
    "\n",
    "#Display figure\n",
    "fig\n"
   ]
  },
  {
   "cell_type": "code",
   "execution_count": 4,
   "id": "d497a342",
   "metadata": {},
   "outputs": [
    {
     "data": {
      "application/vnd.jupyter.widget-view+json": {
       "model_id": "4af20b2f1d874b07a5c9d7cdeedba780",
       "version_major": 2,
       "version_minor": 0
      },
      "text/plain": [
       "Figure(layout=FigureLayout(border='1px solid black', height='450px', margin='0 auto 0 auto', padding='1px', wi…"
      ]
     },
     "metadata": {},
     "output_type": "display_data"
    }
   ],
   "source": [
    "# Using the template add marks to the heatmap\n",
    "info_box_template = \"\"\"\n",
    "<dl>\n",
    "<dt>City</dt><dd>{City}</dd>\n",
    "<dt>Qty Players</dt><dd>{Players}</dd>\n",
    "</dl>\n",
    "\"\"\"\n",
    "\n",
    "#Data retrieval for Latitude and Longitude\n",
    "players=[]\n",
    "top_city=[]\n",
    "\n",
    "top_city_index = players_uscity['Players'].idxmax()\n",
    "top_city = players_uscity.loc[top_city_index,'US City']\n",
    "lat = players_uscity_gloc['Lat'].loc[players_uscity_gloc['US City'] == top_city]\n",
    "lng = players_uscity_gloc['Lng'].loc[players_uscity_gloc['US City'] == top_city]\n",
    "players.append(players_uscity.loc[top_city_index,'Players'])\n",
    "\n",
    "#Dataframe creation for map display\n",
    "data={\"City\":top_city, \"Players\":players ,\"Lat\":lat, \"Lng\":lng}\n",
    "df= pd.DataFrame(data)\n",
    "\n",
    "# Store the DataFrame Row\n",
    "marker_info = [info_box_template.format(**row) for index, row in df.iterrows()]\n",
    "locations = df[[\"Lat\", \"Lng\"]]\n",
    "\n",
    "# Add marker layer ontop of heat map\n",
    "markers = gmaps.marker_layer(locations)\n",
    "symbol_layer = gmaps.symbol_layer(locations, info_box_content=marker_info)\n",
    "\n",
    "# Customize the size of the figure\n",
    "figure_layout = {\n",
    "    'width': '450px',\n",
    "    'height': '450px',\n",
    "    'border': '1px solid black',\n",
    "    'padding': '1px',\n",
    "    'margin': '0 auto 0 auto'\n",
    "}\n",
    "\n",
    "# Add the layer to the map\n",
    "fig = gmaps.figure(map_type='HYBRID', layout=figure_layout)\n",
    "fig.add_layer(markers)\n",
    "fig.add_layer(heatmap)\n",
    "fig.add_layer(symbol_layer)\n",
    "\n",
    "\n",
    "# Display figure\n",
    "fig\n"
   ]
  },
  {
   "cell_type": "markdown",
   "id": "73ad90f3",
   "metadata": {},
   "source": [
    "## Maps by International Cities"
   ]
  },
  {
   "cell_type": "code",
   "execution_count": 5,
   "id": "01d436ba",
   "metadata": {
    "scrolled": true
   },
   "outputs": [
    {
     "data": {
      "application/vnd.jupyter.widget-view+json": {
       "model_id": "2cf1dccfecc94f4293b7e228d2ca3b0f",
       "version_major": 2,
       "version_minor": 0
      },
      "text/plain": [
       "Figure(layout=FigureLayout(border='1px solid black', height='450px', margin='0 auto 0 auto', padding='1px', wi…"
      ]
     },
     "metadata": {},
     "output_type": "display_data"
    }
   ],
   "source": [
    "#Create a list containing coordinates\n",
    "coordinates = list(zip(players_intcity_gloc[\"Lat\"],players_intcity_gloc[\"Lng\"]))\n",
    "\n",
    "# Customize the size of the figure\n",
    "figure_layout = {\n",
    "    'width': '450px',\n",
    "    'height': '450px',\n",
    "    'border': '1px solid black',\n",
    "    'padding': '1px',\n",
    "    'margin': '0 auto 0 auto'\n",
    "}\n",
    "\n",
    "#Creating the figure holder\n",
    "fig = gmaps.figure(map_type='HYBRID', layout=figure_layout)\n",
    "\n",
    "# Assign the heatmap layer to a variable\n",
    "heatmap = gmaps.heatmap_layer(coordinates, weights=players_intcity[\"Players\"], dissipating=False, point_radius=5)\n",
    "\n",
    "# Add the layer to the map\n",
    "fig.add_layer(heatmap)\n",
    "\n",
    "#Display figure\n",
    "fig\n"
   ]
  },
  {
   "cell_type": "code",
   "execution_count": 6,
   "id": "01b2df6f",
   "metadata": {},
   "outputs": [
    {
     "data": {
      "application/vnd.jupyter.widget-view+json": {
       "model_id": "4a98562d7be448c38b44437a22c29c1f",
       "version_major": 2,
       "version_minor": 0
      },
      "text/plain": [
       "Figure(layout=FigureLayout(border='1px solid black', height='450px', margin='0 auto 0 auto', padding='1px', wi…"
      ]
     },
     "metadata": {},
     "output_type": "display_data"
    }
   ],
   "source": [
    "# Using the template add marks to the heatmap\n",
    "info_box_template = \"\"\"\n",
    "<dl>\n",
    "<dt>City</dt><dd>{City}</dd>\n",
    "<dt>Qty Players</dt><dd>{Players}</dd>\n",
    "</dl>\n",
    "\"\"\"\n",
    "\n",
    "#Data retrieval for Latitude and Longitude\n",
    "players=[]\n",
    "top_city=[]\n",
    "\n",
    "top_city_index = players_intcity['Players'].idxmax()\n",
    "top_city = players_intcity.loc[top_city_index,'Int City']\n",
    "lat = players_intcity_gloc['Lat'].loc[players_intcity_gloc['Int City'] == top_city]\n",
    "lng = players_intcity_gloc['Lng'].loc[players_intcity_gloc['Int City'] == top_city]\n",
    "players.append(players_intcity.loc[top_city_index,'Players'])\n",
    "\n",
    "data={\"City\":top_city, \"Players\":players ,\"Lat\":lat, \"Lng\":lng}\n",
    "df= pd.DataFrame(data)\n",
    "\n",
    "# Store the DataFrame Row\n",
    "marker_info = [info_box_template.format(**row) for index, row in df.iterrows()]\n",
    "locations = df[[\"Lat\", \"Lng\"]]\n",
    "\n",
    "# Add marker layer ontop of heat map\n",
    "markers = gmaps.marker_layer(locations)\n",
    "symbol_layer = gmaps.symbol_layer(locations, info_box_content=marker_info)\n",
    "\n",
    "# Customize the size of the figure\n",
    "figure_layout = {\n",
    "    'width': '450px',\n",
    "    'height': '450px',\n",
    "    'border': '1px solid black',\n",
    "    'padding': '1px',\n",
    "    'margin': '0 auto 0 auto'\n",
    "}\n",
    "\n",
    "# Add the layer to the map\n",
    "fig = gmaps.figure(map_type='HYBRID', layout=figure_layout)\n",
    "fig.add_layer(markers)\n",
    "fig.add_layer(heatmap)\n",
    "fig.add_layer(symbol_layer)\n",
    "\n",
    "\n",
    "# Display figure\n",
    "fig\n"
   ]
  },
  {
   "cell_type": "markdown",
   "id": "5d4379cd",
   "metadata": {},
   "source": [
    "## Maps by Countries"
   ]
  },
  {
   "cell_type": "code",
   "execution_count": 7,
   "id": "2e4e9b2c",
   "metadata": {},
   "outputs": [
    {
     "data": {
      "application/vnd.jupyter.widget-view+json": {
       "model_id": "1a1b18cdf8754af495c83b576cbc72cd",
       "version_major": 2,
       "version_minor": 0
      },
      "text/plain": [
       "Figure(layout=FigureLayout(border='1px solid black', height='450px', margin='0 auto 0 auto', padding='1px', wi…"
      ]
     },
     "metadata": {},
     "output_type": "display_data"
    }
   ],
   "source": [
    "#Create a list containing coordinates\n",
    "coordinates = list(zip(players_countries_gloc[\"Lat\"],players_countries_gloc[\"Lng\"]))\n",
    "\n",
    "# Customize the size of the figure\n",
    "figure_layout = {\n",
    "    'width': '450px',\n",
    "    'height': '450px',\n",
    "    'border': '1px solid black',\n",
    "    'padding': '1px',\n",
    "    'margin': '0 auto 0 auto'\n",
    "}\n",
    "\n",
    "#Creating the figure holder\n",
    "fig = gmaps.figure(map_type='HYBRID', layout=figure_layout)\n",
    "\n",
    "# Assign the heatmap layer to a variable\n",
    "heatmap = gmaps.heatmap_layer(coordinates, weights=players_countries[\"Players\"], dissipating=False, point_radius=5)\n",
    "\n",
    "# Add the layer to the map\n",
    "fig.add_layer(heatmap)\n",
    "\n",
    "#Display figure\n",
    "fig"
   ]
  },
  {
   "cell_type": "code",
   "execution_count": 8,
   "id": "b221592c",
   "metadata": {},
   "outputs": [
    {
     "data": {
      "application/vnd.jupyter.widget-view+json": {
       "model_id": "bacd618dbe2a4213872c840850df4f2c",
       "version_major": 2,
       "version_minor": 0
      },
      "text/plain": [
       "Figure(layout=FigureLayout(border='1px solid black', height='450px', margin='0 auto 0 auto', padding='1px', wi…"
      ]
     },
     "metadata": {},
     "output_type": "display_data"
    }
   ],
   "source": [
    "# Using the template add marks to the heatmap\n",
    "info_box_template = \"\"\"\n",
    "<dl>\n",
    "<dt>Country</dt><dd>{Country}</dd>\n",
    "<dt>Qty Players</dt><dd>{Players}</dd>\n",
    "</dl>\n",
    "\"\"\"\n",
    "\n",
    "#Data retrieval for Latitude and Longitude\n",
    "players=[]\n",
    "top_country=[]\n",
    "\n",
    "top_country_index = players_countries['Players'].idxmax()\n",
    "top_country_data = players_countries.loc[top_country_index,'Country']\n",
    "top_country_conv = pycountry.countries.lookup(top_country_data)\n",
    "top_country = top_country_conv.name\n",
    "\n",
    "lat = players_countries_gloc['Lat'].loc[players_countries_gloc['Country'] == top_country]\n",
    "lng = players_countries_gloc['Lng'].loc[players_countries_gloc['Country'] == top_country]\n",
    "players.append(players_countries.loc[top_country_index,'Players'])\n",
    "\n",
    "data={\"Country\":top_country, \"Players\":players ,\"Lat\":lat, \"Lng\":lng}\n",
    "df= pd.DataFrame(data)\n",
    "\n",
    "# Store the DataFrame Row\n",
    "marker_info = [info_box_template.format(**row) for index, row in df.iterrows()]\n",
    "locations = df[[\"Lat\", \"Lng\"]]\n",
    "\n",
    "# Add marker layer ontop of heat map\n",
    "markers = gmaps.marker_layer(locations)\n",
    "symbol_layer = gmaps.symbol_layer(locations, info_box_content=marker_info)\n",
    "\n",
    "# Customize the size of the figure\n",
    "figure_layout = {\n",
    "    'width': '450px',\n",
    "    'height': '450px',\n",
    "    'border': '1px solid black',\n",
    "    'padding': '1px',\n",
    "    'margin': '0 auto 0 auto'\n",
    "}\n",
    "\n",
    "# Add the layer to the map\n",
    "fig = gmaps.figure(map_type='HYBRID', layout=figure_layout)\n",
    "fig.add_layer(markers)\n",
    "fig.add_layer(heatmap)\n",
    "fig.add_layer(symbol_layer)\n",
    "\n",
    "\n",
    "# Display figure\n",
    "fig\n"
   ]
  },
  {
   "cell_type": "code",
   "execution_count": null,
   "id": "54bd93c8",
   "metadata": {},
   "outputs": [],
   "source": []
  }
 ],
 "metadata": {
  "kernelspec": {
   "display_name": "Python 3 (ipykernel)",
   "language": "python",
   "name": "python3"
  },
  "language_info": {
   "codemirror_mode": {
    "name": "ipython",
    "version": 3
   },
   "file_extension": ".py",
   "mimetype": "text/x-python",
   "name": "python",
   "nbconvert_exporter": "python",
   "pygments_lexer": "ipython3",
   "version": "3.7.7"
  }
 },
 "nbformat": 4,
 "nbformat_minor": 5
}
