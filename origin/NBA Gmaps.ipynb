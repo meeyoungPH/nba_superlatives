{
 "cells": [
  {
   "cell_type": "code",
   "execution_count": 3,
   "id": "e6e846ff",
   "metadata": {},
   "outputs": [],
   "source": [
    "import pandas as pd\n",
    "import numpy as np\n",
    "import gmaps\n",
    "import pycountry\n",
    "\n",
    "# Import API key\n",
    "from api_keys import g_key\n",
    "\n",
    "#Output Folder Path\n",
    "path = \"output_data/\"\n",
    "\n",
    "# Access maps with unique API key\n",
    "gmaps.configure(api_key=g_key)\n",
    "\n",
    "#Read_csv_Path\n",
    "players_uscity_gloc_path = f\"{path}players_top10_uscity_gloc.csv\"\n",
    "players_intcity_gloc_path = f\"{path}players_top10_intcity_gloc.csv\"\n",
    "players_countries_gloc_path = f\"{path}players_top10_countries_gloc.csv\"\n",
    "players_uscity_path = f\"{path}players_top10_2022_uscity.csv\"\n",
    "players_intcity_path = f\"{path}players_top10_2022_intcity.csv\"\n",
    "players_countries_path = f\"{path}players_top10_2022_countries.csv\""
   ]
  },
  {
   "cell_type": "code",
   "execution_count": 4,
   "id": "df53da7f",
   "metadata": {},
   "outputs": [],
   "source": [
    "#Read SCV \n",
    "players_uscity_gloc = pd.read_csv(players_uscity_gloc_path)\n",
    "players_intcity_gloc = pd.read_csv(players_intcity_gloc_path)\n",
    "players_countries_gloc = pd.read_csv(players_countries_gloc_path)\n",
    "players_uscity = pd.read_csv(players_uscity_path)\n",
    "players_intcity = pd.read_csv(players_intcity_path)\n",
    "players_countries = pd.read_csv(players_countries_path)"
   ]
  },
  {
   "cell_type": "markdown",
   "id": "46713a4a",
   "metadata": {},
   "source": [
    "## Maps by US Cities"
   ]
  },
  {
   "cell_type": "code",
   "execution_count": 12,
   "id": "43e9847e",
   "metadata": {},
   "outputs": [
    {
     "data": {
      "application/vnd.jupyter.widget-view+json": {
       "model_id": "33246cc8b53345ca96e1c0d58dc16190",
       "version_major": 2,
       "version_minor": 0
      },
      "text/plain": [
       "Figure(layout=FigureLayout(border='1px solid black', height='300px', margin='0 auto 0 auto', padding='1px', wi…"
      ]
     },
     "metadata": {},
     "output_type": "display_data"
    }
   ],
   "source": [
    "#Create a list containing coordinates\n",
    "coordinates = list(zip(players_uscity_gloc[\"Lat\"],players_uscity_gloc[\"Lng\"]))\n",
    "\n",
    "# Customize the size of the figure\n",
    "figure_layout = {\n",
    "    'width': '400px',\n",
    "    'height': '300px',\n",
    "    'border': '1px solid black',\n",
    "    'padding': '1px',\n",
    "    'margin': '0 auto 0 auto'\n",
    "}\n",
    "\n",
    "#Creating the figure holder\n",
    "fig = gmaps.figure(layout=figure_layout)\n",
    "\n",
    "#Assign the heatmap layer to a variable\n",
    "heatmap = gmaps.heatmap_layer(coordinates, weights=players_uscity[\"Players\"])\n",
    "\n",
    "\n",
    "#Add the layer to the map\n",
    "fig.add_layer(heatmap)\n",
    "\n",
    "#Display figure\n",
    "fig\n"
   ]
  },
  {
   "cell_type": "code",
   "execution_count": 56,
   "id": "56cb3b86",
   "metadata": {},
   "outputs": [
    {
     "data": {
      "application/vnd.jupyter.widget-view+json": {
       "model_id": "7b0a3cda04974e0e89904cb659cfa15d",
       "version_major": 2,
       "version_minor": 0
      },
      "text/plain": [
       "Figure(layout=FigureLayout(height='420px'))"
      ]
     },
     "metadata": {},
     "output_type": "display_data"
    }
   ],
   "source": [
    "# Using the template add marks to the heatmap\n",
    "info_box_template = \"\"\"\n",
    "<dl>\n",
    "<dt>City</dt><dd>{City}</dd>\n",
    "<dt>Qty Players</dt><dd>{Players}</dd>\n",
    "</dl>\n",
    "\"\"\"\n",
    "\n",
    "#Data retrieval for Latitude and Longitude\n",
    "players=[]\n",
    "top_city=[]\n",
    "\n",
    "top_city_index = players_uscity['Players'].idxmax()\n",
    "top_city = players_uscity.loc[top_city_index,'US City']\n",
    "lat = players_uscity_gloc['Lat'].loc[players_uscity_gloc['US City'] == top_city]\n",
    "lng = players_uscity_gloc['Lng'].loc[players_uscity_gloc['US City'] == top_city]\n",
    "players.append(players_uscity.loc[top_city_index,'Players'])\n",
    "\n",
    "#Dataframe creation for map display\n",
    "data={\"City\":top_city, \"Players\":players ,\"Lat\":lat, \"Lng\":lng}\n",
    "df= pd.DataFrame(data)\n",
    "\n",
    "# Store the DataFrame Row\n",
    "marker_info = [info_box_template.format(**row) for index, row in df.iterrows()]\n",
    "locations = df[[\"Lat\", \"Lng\"]]\n",
    "\n",
    "# Add marker layer ontop of heat map\n",
    "markers = gmaps.marker_layer(locations)\n",
    "symbol_layer = gmaps.symbol_layer(locations, info_box_content=marker_info)\n",
    "\n",
    "# Add the layer to the map\n",
    "fig = gmaps.figure()\n",
    "fig.add_layer(markers)\n",
    "fig.add_layer(heatmap)\n",
    "fig.add_layer(symbol_layer)\n",
    "\n",
    "\n",
    "# Display figure\n",
    "fig\n"
   ]
  },
  {
   "cell_type": "markdown",
   "id": "a335a23d",
   "metadata": {},
   "source": [
    "## Maps by International Cities"
   ]
  },
  {
   "cell_type": "code",
   "execution_count": 59,
   "id": "10050aba",
   "metadata": {
    "scrolled": true
   },
   "outputs": [
    {
     "data": {
      "application/vnd.jupyter.widget-view+json": {
       "model_id": "9db53f696afb478eb65d41168a97b815",
       "version_major": 2,
       "version_minor": 0
      },
      "text/plain": [
       "Figure(layout=FigureLayout(border='1px solid black', height='300px', margin='0 auto 0 auto', padding='1px', wi…"
      ]
     },
     "metadata": {},
     "output_type": "display_data"
    }
   ],
   "source": [
    "#Create a list containing coordinates\n",
    "coordinates = list(zip(players_intcity_gloc[\"Lat\"],players_intcity_gloc[\"Lng\"]))\n",
    "\n",
    "# Customize the size of the figure\n",
    "figure_layout = {\n",
    "    'width': '400px',\n",
    "    'height': '300px',\n",
    "    'border': '1px solid black',\n",
    "    'padding': '1px',\n",
    "    'margin': '0 auto 0 auto'\n",
    "}\n",
    "\n",
    "#Creating the figure holder\n",
    "fig = gmaps.figure(layout=figure_layout)\n",
    "\n",
    "# Assign the heatmap layer to a variable\n",
    "heatmap = gmaps.heatmap_layer(coordinates, weights=players_intcity[\"Players\"])\n",
    "\n",
    "# Add the layer to the map\n",
    "fig.add_layer(heatmap)\n",
    "\n",
    "#Display figure\n",
    "fig\n"
   ]
  },
  {
   "cell_type": "code",
   "execution_count": 60,
   "id": "36d73b74",
   "metadata": {},
   "outputs": [
    {
     "data": {
      "application/vnd.jupyter.widget-view+json": {
       "model_id": "da589b4ee727465791e24316cd4ecf80",
       "version_major": 2,
       "version_minor": 0
      },
      "text/plain": [
       "Figure(layout=FigureLayout(height='420px'))"
      ]
     },
     "metadata": {},
     "output_type": "display_data"
    }
   ],
   "source": [
    "# Using the template add marks to the heatmap\n",
    "info_box_template = \"\"\"\n",
    "<dl>\n",
    "<dt>City</dt><dd>{City}</dd>\n",
    "<dt>Qty Players</dt><dd>{Players}</dd>\n",
    "</dl>\n",
    "\"\"\"\n",
    "\n",
    "#Data retrieval for Latitude and Longitude\n",
    "players=[]\n",
    "top_city=[]\n",
    "\n",
    "top_city_index = players_intcity['Players'].idxmax()\n",
    "top_city = players_intcity.loc[top_city_index,'Int City']\n",
    "lat = players_intcity_gloc['Lat'].loc[players_intcity_gloc['Int City'] == top_city]\n",
    "lng = players_intcity_gloc['Lng'].loc[players_intcity_gloc['Int City'] == top_city]\n",
    "players.append(players_intcity.loc[top_city_index,'Players'])\n",
    "\n",
    "data={\"City\":top_city, \"Players\":players ,\"Lat\":lat, \"Lng\":lng}\n",
    "df= pd.DataFrame(data)\n",
    "\n",
    "# Store the DataFrame Row\n",
    "marker_info = [info_box_template.format(**row) for index, row in df.iterrows()]\n",
    "locations = df[[\"Lat\", \"Lng\"]]\n",
    "\n",
    "# Add marker layer ontop of heat map\n",
    "markers = gmaps.marker_layer(locations)\n",
    "symbol_layer = gmaps.symbol_layer(locations, info_box_content=marker_info)\n",
    "\n",
    "# Add the layer to the map\n",
    "fig = gmaps.figure()\n",
    "fig.add_layer(markers)\n",
    "fig.add_layer(heatmap)\n",
    "fig.add_layer(symbol_layer)\n",
    "\n",
    "\n",
    "# Display figure\n",
    "fig\n"
   ]
  },
  {
   "cell_type": "markdown",
   "id": "9b746e16",
   "metadata": {},
   "source": [
    "## Maps by Countries"
   ]
  },
  {
   "cell_type": "code",
   "execution_count": 77,
   "id": "320a5b39",
   "metadata": {},
   "outputs": [
    {
     "data": {
      "application/vnd.jupyter.widget-view+json": {
       "model_id": "58df1dffeaa04f1aa373d2effa4a3bed",
       "version_major": 2,
       "version_minor": 0
      },
      "text/plain": [
       "Figure(layout=FigureLayout(border='1px solid black', height='300px', margin='0 auto 0 auto', padding='1px', wi…"
      ]
     },
     "metadata": {},
     "output_type": "display_data"
    }
   ],
   "source": [
    "#Create a list containing coordinates\n",
    "coordinates = list(zip(players_countries_gloc[\"Lat\"],players_countries_gloc[\"Lng\"]))\n",
    "\n",
    "# Customize the size of the figure\n",
    "figure_layout = {\n",
    "    'width': '400px',\n",
    "    'height': '300px',\n",
    "    'border': '1px solid black',\n",
    "    'padding': '1px',\n",
    "    'margin': '0 auto 0 auto'\n",
    "}\n",
    "\n",
    "#Creating the figure holder\n",
    "fig = gmaps.figure(layout=figure_layout)\n",
    "\n",
    "# Assign the heatmap layer to a variable\n",
    "heatmap = gmaps.heatmap_layer(coordinates, weights=players_countries[\"Players\"])\n",
    "\n",
    "# Add the layer to the map\n",
    "fig.add_layer(heatmap)\n",
    "\n",
    "#Display figure\n",
    "fig"
   ]
  },
  {
   "cell_type": "code",
   "execution_count": 78,
   "id": "3fab2ad3",
   "metadata": {},
   "outputs": [
    {
     "data": {
      "application/vnd.jupyter.widget-view+json": {
       "model_id": "8a14834429cf4cfca9435b0f09951212",
       "version_major": 2,
       "version_minor": 0
      },
      "text/plain": [
       "Figure(layout=FigureLayout(height='420px'))"
      ]
     },
     "metadata": {},
     "output_type": "display_data"
    }
   ],
   "source": [
    "# Using the template add marks to the heatmap\n",
    "info_box_template = \"\"\"\n",
    "<dl>\n",
    "<dt>Country</dt><dd>{Country}</dd>\n",
    "<dt>Qty Players</dt><dd>{Players}</dd>\n",
    "</dl>\n",
    "\"\"\"\n",
    "\n",
    "#Data retrieval for Latitude and Longitude\n",
    "players=[]\n",
    "top_country=[]\n",
    "\n",
    "top_country_index = players_countries['Players'].idxmax()\n",
    "top_country_data = players_countries.loc[top_country_index,'Country']\n",
    "top_country_conv = pycountry.countries.lookup(top_country_data)\n",
    "top_country = top_country_conv.name\n",
    "\n",
    "lat = players_countries_gloc['Lat'].loc[players_countries_gloc['Country'] == top_country]\n",
    "lng = players_countries_gloc['Lng'].loc[players_countries_gloc['Country'] == top_country]\n",
    "players.append(players_countries.loc[top_country_index,'Players'])\n",
    "\n",
    "data={\"Country\":top_country, \"Players\":players ,\"Lat\":lat, \"Lng\":lng}\n",
    "df= pd.DataFrame(data)\n",
    "\n",
    "# Store the DataFrame Row\n",
    "marker_info = [info_box_template.format(**row) for index, row in df.iterrows()]\n",
    "locations = df[[\"Lat\", \"Lng\"]]\n",
    "\n",
    "# Add marker layer ontop of heat map\n",
    "markers = gmaps.marker_layer(locations)\n",
    "symbol_layer = gmaps.symbol_layer(locations, info_box_content=marker_info)\n",
    "\n",
    "# Add the layer to the map\n",
    "fig = gmaps.figure()\n",
    "fig.add_layer(markers)\n",
    "fig.add_layer(heatmap)\n",
    "fig.add_layer(symbol_layer)\n",
    "\n",
    "\n",
    "# Display figure\n",
    "fig\n"
   ]
  },
  {
   "cell_type": "code",
   "execution_count": null,
   "id": "0c35b77c",
   "metadata": {},
   "outputs": [],
   "source": []
  }
 ],
 "metadata": {
  "kernelspec": {
   "display_name": "Python 3 (ipykernel)",
   "language": "python",
   "name": "python3"
  },
  "language_info": {
   "codemirror_mode": {
    "name": "ipython",
    "version": 3
   },
   "file_extension": ".py",
   "mimetype": "text/x-python",
   "name": "python",
   "nbconvert_exporter": "python",
   "pygments_lexer": "ipython3",
   "version": "3.7.7"
  }
 },
 "nbformat": 4,
 "nbformat_minor": 5
}
