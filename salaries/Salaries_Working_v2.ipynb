{
 "cells": [
  {
   "cell_type": "code",
   "execution_count": 2,
   "id": "c2ff9c2b",
   "metadata": {},
   "outputs": [],
   "source": [
    "#Dependencies\n",
    "import pandas as pd\n",
    "import numpy as np\n",
    "import matplotlib.pyplot as plt"
   ]
  },
  {
   "cell_type": "code",
   "execution_count": 3,
   "id": "b6446402",
   "metadata": {},
   "outputs": [
    {
     "data": {
      "text/html": [
       "<div>\n",
       "<style scoped>\n",
       "    .dataframe tbody tr th:only-of-type {\n",
       "        vertical-align: middle;\n",
       "    }\n",
       "\n",
       "    .dataframe tbody tr th {\n",
       "        vertical-align: top;\n",
       "    }\n",
       "\n",
       "    .dataframe thead th {\n",
       "        text-align: right;\n",
       "    }\n",
       "</style>\n",
       "<table border=\"1\" class=\"dataframe\">\n",
       "  <thead>\n",
       "    <tr style=\"text-align: right;\">\n",
       "      <th></th>\n",
       "      <th>Name</th>\n",
       "      <th>Salary</th>\n",
       "    </tr>\n",
       "  </thead>\n",
       "  <tbody>\n",
       "    <tr>\n",
       "      <th>0</th>\n",
       "      <td>Juhann Begarin</td>\n",
       "      <td>NaN</td>\n",
       "    </tr>\n",
       "    <tr>\n",
       "      <th>1</th>\n",
       "      <td>Jaylen Brown</td>\n",
       "      <td>26758928.0</td>\n",
       "    </tr>\n",
       "    <tr>\n",
       "      <th>2</th>\n",
       "      <td>Kris Dunn</td>\n",
       "      <td>5005350.0</td>\n",
       "    </tr>\n",
       "    <tr>\n",
       "      <th>3</th>\n",
       "      <td>Carsen Edwards</td>\n",
       "      <td>1782621.0</td>\n",
       "    </tr>\n",
       "    <tr>\n",
       "      <th>4</th>\n",
       "      <td>Tacko Fall</td>\n",
       "      <td>NaN</td>\n",
       "    </tr>\n",
       "  </tbody>\n",
       "</table>\n",
       "</div>"
      ],
      "text/plain": [
       "             Name      Salary\n",
       "0  Juhann Begarin         NaN\n",
       "1    Jaylen Brown  26758928.0\n",
       "2       Kris Dunn   5005350.0\n",
       "3  Carsen Edwards   1782621.0\n",
       "4      Tacko Fall         NaN"
      ]
     },
     "execution_count": 3,
     "metadata": {},
     "output_type": "execute_result"
    }
   ],
   "source": [
    "players_salaries_csv = \"players_salaries.csv\"\n",
    "nba_stats_csv = \"nba_stats.csv\"\n",
    "PER_csv = \"cleaned_player_with_per_and_draftV2.csv\"\n",
    "\n",
    "players_salaries_df = pd.read_csv(players_salaries_csv)\n",
    "nba_stats_df = pd.read_csv(nba_stats_csv)\n",
    "PER_csv_df = pd.read_csv(PER_csv)\n",
    "\n",
    "#players_salaries_df.columns\n",
    "reduced_salaries = players_salaries_df[[\"Name\", \"Salary\"]]\n",
    "reduced_salaries.head()"
   ]
  },
  {
   "cell_type": "code",
   "execution_count": 4,
   "id": "d2983cd1",
   "metadata": {},
   "outputs": [
    {
     "data": {
      "text/html": [
       "<div>\n",
       "<style scoped>\n",
       "    .dataframe tbody tr th:only-of-type {\n",
       "        vertical-align: middle;\n",
       "    }\n",
       "\n",
       "    .dataframe tbody tr th {\n",
       "        vertical-align: top;\n",
       "    }\n",
       "\n",
       "    .dataframe thead th {\n",
       "        text-align: right;\n",
       "    }\n",
       "</style>\n",
       "<table border=\"1\" class=\"dataframe\">\n",
       "  <thead>\n",
       "    <tr style=\"text-align: right;\">\n",
       "      <th></th>\n",
       "      <th>Player</th>\n",
       "      <th>PER</th>\n",
       "      <th>YEAR_TOTAL</th>\n",
       "    </tr>\n",
       "  </thead>\n",
       "  <tbody>\n",
       "    <tr>\n",
       "      <th>0</th>\n",
       "      <td>Delon Wright</td>\n",
       "      <td>13.8</td>\n",
       "      <td>7</td>\n",
       "    </tr>\n",
       "    <tr>\n",
       "      <th>1</th>\n",
       "      <td>Jalen Johnson</td>\n",
       "      <td>11.3</td>\n",
       "      <td>1</td>\n",
       "    </tr>\n",
       "    <tr>\n",
       "      <th>2</th>\n",
       "      <td>Sharife Cooper</td>\n",
       "      <td>-5.4</td>\n",
       "      <td>1</td>\n",
       "    </tr>\n",
       "    <tr>\n",
       "      <th>3</th>\n",
       "      <td>Kevin Huerter</td>\n",
       "      <td>11.9</td>\n",
       "      <td>4</td>\n",
       "    </tr>\n",
       "    <tr>\n",
       "      <th>4</th>\n",
       "      <td>Skylar Mays</td>\n",
       "      <td>11.7</td>\n",
       "      <td>2</td>\n",
       "    </tr>\n",
       "  </tbody>\n",
       "</table>\n",
       "</div>"
      ],
      "text/plain": [
       "           Player   PER  YEAR_TOTAL\n",
       "0    Delon Wright  13.8           7\n",
       "1   Jalen Johnson  11.3           1\n",
       "2  Sharife Cooper  -5.4           1\n",
       "3   Kevin Huerter  11.9           4\n",
       "4     Skylar Mays  11.7           2"
      ]
     },
     "execution_count": 4,
     "metadata": {},
     "output_type": "execute_result"
    }
   ],
   "source": [
    "reduced_PER = PER_csv_df[[\"Player\", \"PER\", \"YEAR_TOTAL\"]]\n",
    "reduced_PER.head()"
   ]
  },
  {
   "cell_type": "code",
   "execution_count": 5,
   "id": "b0cb5f56",
   "metadata": {},
   "outputs": [
    {
     "data": {
      "text/plain": [
       "count        445\n",
       "mean     8813696\n",
       "std      9886777\n",
       "min       925258\n",
       "25%      1802057\n",
       "50%      4447896\n",
       "75%     12000000\n",
       "max     45780966\n",
       "Name: Salary, dtype: float64"
      ]
     },
     "execution_count": 5,
     "metadata": {},
     "output_type": "execute_result"
    }
   ],
   "source": [
    "pd.options.display.float_format = '{:.0f}'.format\n",
    "reduced_salaries[\"Salary\"].describe()\n",
    "#Google search says the average salary = $7.3 million; the top 10 highest salaries\n",
    "#are north of $39 million (i.e. LeBron James and Kevin Durant)\n",
    "#possibly higher b/c of trades and multiple listings of players and sal per trade"
   ]
  },
  {
   "cell_type": "code",
   "execution_count": 6,
   "id": "16c405d3",
   "metadata": {},
   "outputs": [
    {
     "data": {
      "text/html": [
       "<div>\n",
       "<style scoped>\n",
       "    .dataframe tbody tr th:only-of-type {\n",
       "        vertical-align: middle;\n",
       "    }\n",
       "\n",
       "    .dataframe tbody tr th {\n",
       "        vertical-align: top;\n",
       "    }\n",
       "\n",
       "    .dataframe thead th {\n",
       "        text-align: right;\n",
       "    }\n",
       "</style>\n",
       "<table border=\"1\" class=\"dataframe\">\n",
       "  <thead>\n",
       "    <tr style=\"text-align: right;\">\n",
       "      <th></th>\n",
       "      <th>Player</th>\n",
       "      <th>Pos</th>\n",
       "      <th>G</th>\n",
       "    </tr>\n",
       "  </thead>\n",
       "  <tbody>\n",
       "    <tr>\n",
       "      <th>0</th>\n",
       "      <td>Precious Achiuwa</td>\n",
       "      <td>C</td>\n",
       "      <td>73</td>\n",
       "    </tr>\n",
       "    <tr>\n",
       "      <th>1</th>\n",
       "      <td>Steven Adams</td>\n",
       "      <td>C</td>\n",
       "      <td>76</td>\n",
       "    </tr>\n",
       "    <tr>\n",
       "      <th>2</th>\n",
       "      <td>Bam Adebayo</td>\n",
       "      <td>C</td>\n",
       "      <td>56</td>\n",
       "    </tr>\n",
       "    <tr>\n",
       "      <th>3</th>\n",
       "      <td>Santi Aldama</td>\n",
       "      <td>PF</td>\n",
       "      <td>32</td>\n",
       "    </tr>\n",
       "    <tr>\n",
       "      <th>4</th>\n",
       "      <td>LaMarcus Aldridge</td>\n",
       "      <td>C</td>\n",
       "      <td>47</td>\n",
       "    </tr>\n",
       "  </tbody>\n",
       "</table>\n",
       "</div>"
      ],
      "text/plain": [
       "              Player Pos   G\n",
       "0   Precious Achiuwa   C  73\n",
       "1       Steven Adams   C  76\n",
       "2        Bam Adebayo   C  56\n",
       "3       Santi Aldama  PF  32\n",
       "4  LaMarcus Aldridge   C  47"
      ]
     },
     "execution_count": 6,
     "metadata": {},
     "output_type": "execute_result"
    }
   ],
   "source": [
    "#nba_stats_df.columns\n",
    "reduced_nba_stats = nba_stats_df[[\"Player\", \"Pos\", \"G\"]]\n",
    "reduced_nba_stats.head()"
   ]
  },
  {
   "cell_type": "code",
   "execution_count": 7,
   "id": "57f265d1",
   "metadata": {
    "scrolled": true
   },
   "outputs": [
    {
     "data": {
      "text/plain": [
       "count   812\n",
       "mean     37\n",
       "std      26\n",
       "min       1\n",
       "25%      12\n",
       "50%      36\n",
       "75%      61\n",
       "max      82\n",
       "Name: G, dtype: float64"
      ]
     },
     "execution_count": 7,
     "metadata": {},
     "output_type": "execute_result"
    }
   ],
   "source": [
    "reduced_nba_stats[\"G\"].describe() \n",
    "#yielded min = 1 game, max = 82 games; mean = 37 games"
   ]
  },
  {
   "cell_type": "code",
   "execution_count": 8,
   "id": "965a84e7",
   "metadata": {
    "scrolled": true
   },
   "outputs": [
    {
     "data": {
      "text/html": [
       "<div>\n",
       "<style scoped>\n",
       "    .dataframe tbody tr th:only-of-type {\n",
       "        vertical-align: middle;\n",
       "    }\n",
       "\n",
       "    .dataframe tbody tr th {\n",
       "        vertical-align: top;\n",
       "    }\n",
       "\n",
       "    .dataframe thead th {\n",
       "        text-align: right;\n",
       "    }\n",
       "</style>\n",
       "<table border=\"1\" class=\"dataframe\">\n",
       "  <thead>\n",
       "    <tr style=\"text-align: right;\">\n",
       "      <th></th>\n",
       "      <th>Player</th>\n",
       "      <th>Pos</th>\n",
       "      <th>G</th>\n",
       "      <th>Name</th>\n",
       "      <th>Salary</th>\n",
       "    </tr>\n",
       "  </thead>\n",
       "  <tbody>\n",
       "    <tr>\n",
       "      <th>0</th>\n",
       "      <td>Precious Achiuwa</td>\n",
       "      <td>C</td>\n",
       "      <td>73</td>\n",
       "      <td>Precious Achiuwa</td>\n",
       "      <td>2711280</td>\n",
       "    </tr>\n",
       "    <tr>\n",
       "      <th>1</th>\n",
       "      <td>Steven Adams</td>\n",
       "      <td>C</td>\n",
       "      <td>76</td>\n",
       "      <td>Steven Adams</td>\n",
       "      <td>17073171</td>\n",
       "    </tr>\n",
       "    <tr>\n",
       "      <th>2</th>\n",
       "      <td>Bam Adebayo</td>\n",
       "      <td>C</td>\n",
       "      <td>56</td>\n",
       "      <td>Bam Adebayo</td>\n",
       "      <td>28103500</td>\n",
       "    </tr>\n",
       "    <tr>\n",
       "      <th>3</th>\n",
       "      <td>Santi Aldama</td>\n",
       "      <td>PF</td>\n",
       "      <td>32</td>\n",
       "      <td>Santi Aldama</td>\n",
       "      <td>1994520</td>\n",
       "    </tr>\n",
       "    <tr>\n",
       "      <th>4</th>\n",
       "      <td>LaMarcus Aldridge</td>\n",
       "      <td>C</td>\n",
       "      <td>47</td>\n",
       "      <td>LaMarcus Aldridge</td>\n",
       "      <td>NaN</td>\n",
       "    </tr>\n",
       "    <tr>\n",
       "      <th>...</th>\n",
       "      <td>...</td>\n",
       "      <td>...</td>\n",
       "      <td>...</td>\n",
       "      <td>...</td>\n",
       "      <td>...</td>\n",
       "    </tr>\n",
       "    <tr>\n",
       "      <th>609</th>\n",
       "      <td>Thaddeus Young</td>\n",
       "      <td>PF</td>\n",
       "      <td>26</td>\n",
       "      <td>Thaddeus Young</td>\n",
       "      <td>14190000</td>\n",
       "    </tr>\n",
       "    <tr>\n",
       "      <th>610</th>\n",
       "      <td>Trae Young</td>\n",
       "      <td>PG</td>\n",
       "      <td>76</td>\n",
       "      <td>Trae Young</td>\n",
       "      <td>8326471</td>\n",
       "    </tr>\n",
       "    <tr>\n",
       "      <th>611</th>\n",
       "      <td>Omer Yurtseven</td>\n",
       "      <td>C</td>\n",
       "      <td>56</td>\n",
       "      <td>Omer Yurtseven</td>\n",
       "      <td>1489065</td>\n",
       "    </tr>\n",
       "    <tr>\n",
       "      <th>612</th>\n",
       "      <td>Cody Zeller</td>\n",
       "      <td>C</td>\n",
       "      <td>27</td>\n",
       "      <td>Cody Zeller</td>\n",
       "      <td>1669178</td>\n",
       "    </tr>\n",
       "    <tr>\n",
       "      <th>613</th>\n",
       "      <td>Ivica Zubac</td>\n",
       "      <td>C</td>\n",
       "      <td>76</td>\n",
       "      <td>Ivica Zubac</td>\n",
       "      <td>7518518</td>\n",
       "    </tr>\n",
       "  </tbody>\n",
       "</table>\n",
       "<p>614 rows × 5 columns</p>\n",
       "</div>"
      ],
      "text/plain": [
       "                Player Pos   G               Name   Salary\n",
       "0     Precious Achiuwa   C  73   Precious Achiuwa  2711280\n",
       "1         Steven Adams   C  76       Steven Adams 17073171\n",
       "2          Bam Adebayo   C  56        Bam Adebayo 28103500\n",
       "3         Santi Aldama  PF  32       Santi Aldama  1994520\n",
       "4    LaMarcus Aldridge   C  47  LaMarcus Aldridge      NaN\n",
       "..                 ...  ..  ..                ...      ...\n",
       "609     Thaddeus Young  PF  26     Thaddeus Young 14190000\n",
       "610         Trae Young  PG  76         Trae Young  8326471\n",
       "611     Omer Yurtseven   C  56     Omer Yurtseven  1489065\n",
       "612        Cody Zeller   C  27        Cody Zeller  1669178\n",
       "613        Ivica Zubac   C  76        Ivica Zubac  7518518\n",
       "\n",
       "[614 rows x 5 columns]"
      ]
     },
     "execution_count": 8,
     "metadata": {},
     "output_type": "execute_result"
    }
   ],
   "source": [
    "#merge on left on name and right on player\n",
    "combine_PER_Sal = reduced_nba_stats.merge(reduced_salaries, how =\"inner\", left_on =\"Player\", right_on =\"Name\")\n",
    "combine_PER_Sal"
   ]
  },
  {
   "cell_type": "code",
   "execution_count": 9,
   "id": "cb50d0aa",
   "metadata": {},
   "outputs": [
    {
     "data": {
      "text/html": [
       "<div>\n",
       "<style scoped>\n",
       "    .dataframe tbody tr th:only-of-type {\n",
       "        vertical-align: middle;\n",
       "    }\n",
       "\n",
       "    .dataframe tbody tr th {\n",
       "        vertical-align: top;\n",
       "    }\n",
       "\n",
       "    .dataframe thead th {\n",
       "        text-align: right;\n",
       "    }\n",
       "</style>\n",
       "<table border=\"1\" class=\"dataframe\">\n",
       "  <thead>\n",
       "    <tr style=\"text-align: right;\">\n",
       "      <th></th>\n",
       "      <th>Player</th>\n",
       "      <th>Pos</th>\n",
       "      <th>G</th>\n",
       "      <th>Name</th>\n",
       "      <th>Salary</th>\n",
       "      <th>PER</th>\n",
       "      <th>YEAR_TOTAL</th>\n",
       "    </tr>\n",
       "  </thead>\n",
       "  <tbody>\n",
       "    <tr>\n",
       "      <th>0</th>\n",
       "      <td>Precious Achiuwa</td>\n",
       "      <td>C</td>\n",
       "      <td>73</td>\n",
       "      <td>Precious Achiuwa</td>\n",
       "      <td>2711280</td>\n",
       "      <td>13</td>\n",
       "      <td>2</td>\n",
       "    </tr>\n",
       "    <tr>\n",
       "      <th>1</th>\n",
       "      <td>Steven Adams</td>\n",
       "      <td>C</td>\n",
       "      <td>76</td>\n",
       "      <td>Steven Adams</td>\n",
       "      <td>17073171</td>\n",
       "      <td>18</td>\n",
       "      <td>9</td>\n",
       "    </tr>\n",
       "    <tr>\n",
       "      <th>2</th>\n",
       "      <td>Bam Adebayo</td>\n",
       "      <td>C</td>\n",
       "      <td>56</td>\n",
       "      <td>Bam Adebayo</td>\n",
       "      <td>28103500</td>\n",
       "      <td>22</td>\n",
       "      <td>5</td>\n",
       "    </tr>\n",
       "    <tr>\n",
       "      <th>3</th>\n",
       "      <td>Santi Aldama</td>\n",
       "      <td>PF</td>\n",
       "      <td>32</td>\n",
       "      <td>Santi Aldama</td>\n",
       "      <td>1994520</td>\n",
       "      <td>10</td>\n",
       "      <td>1</td>\n",
       "    </tr>\n",
       "    <tr>\n",
       "      <th>4</th>\n",
       "      <td>LaMarcus Aldridge</td>\n",
       "      <td>C</td>\n",
       "      <td>47</td>\n",
       "      <td>LaMarcus Aldridge</td>\n",
       "      <td>NaN</td>\n",
       "      <td>20</td>\n",
       "      <td>16</td>\n",
       "    </tr>\n",
       "    <tr>\n",
       "      <th>5</th>\n",
       "      <td>Nickeil Alexander-Walker</td>\n",
       "      <td>SG</td>\n",
       "      <td>65</td>\n",
       "      <td>Nickeil Alexander-Walker</td>\n",
       "      <td>3261480</td>\n",
       "      <td>10</td>\n",
       "      <td>3</td>\n",
       "    </tr>\n",
       "    <tr>\n",
       "      <th>6</th>\n",
       "      <td>Nickeil Alexander-Walker</td>\n",
       "      <td>SG</td>\n",
       "      <td>50</td>\n",
       "      <td>Nickeil Alexander-Walker</td>\n",
       "      <td>3261480</td>\n",
       "      <td>10</td>\n",
       "      <td>3</td>\n",
       "    </tr>\n",
       "    <tr>\n",
       "      <th>7</th>\n",
       "      <td>Nickeil Alexander-Walker</td>\n",
       "      <td>SG</td>\n",
       "      <td>15</td>\n",
       "      <td>Nickeil Alexander-Walker</td>\n",
       "      <td>3261480</td>\n",
       "      <td>10</td>\n",
       "      <td>3</td>\n",
       "    </tr>\n",
       "    <tr>\n",
       "      <th>8</th>\n",
       "      <td>Grayson Allen</td>\n",
       "      <td>SG</td>\n",
       "      <td>66</td>\n",
       "      <td>Grayson Allen</td>\n",
       "      <td>4054695</td>\n",
       "      <td>13</td>\n",
       "      <td>4</td>\n",
       "    </tr>\n",
       "    <tr>\n",
       "      <th>9</th>\n",
       "      <td>Jarrett Allen</td>\n",
       "      <td>C</td>\n",
       "      <td>56</td>\n",
       "      <td>Jarrett Allen</td>\n",
       "      <td>20000000</td>\n",
       "      <td>23</td>\n",
       "      <td>5</td>\n",
       "    </tr>\n",
       "    <tr>\n",
       "      <th>10</th>\n",
       "      <td>Kyle Anderson</td>\n",
       "      <td>PF</td>\n",
       "      <td>69</td>\n",
       "      <td>Kyle Anderson</td>\n",
       "      <td>9937150</td>\n",
       "      <td>14</td>\n",
       "      <td>8</td>\n",
       "    </tr>\n",
       "    <tr>\n",
       "      <th>11</th>\n",
       "      <td>Giannis Antetokounmpo</td>\n",
       "      <td>PF</td>\n",
       "      <td>67</td>\n",
       "      <td>Giannis Antetokounmpo</td>\n",
       "      <td>39344970</td>\n",
       "      <td>32</td>\n",
       "      <td>9</td>\n",
       "    </tr>\n",
       "    <tr>\n",
       "      <th>12</th>\n",
       "      <td>Thanasis Antetokounmpo</td>\n",
       "      <td>SF</td>\n",
       "      <td>48</td>\n",
       "      <td>Thanasis Antetokounmpo</td>\n",
       "      <td>1669178</td>\n",
       "      <td>12</td>\n",
       "      <td>8</td>\n",
       "    </tr>\n",
       "    <tr>\n",
       "      <th>13</th>\n",
       "      <td>Carmelo Anthony</td>\n",
       "      <td>PF</td>\n",
       "      <td>69</td>\n",
       "      <td>Carmelo Anthony</td>\n",
       "      <td>1669178</td>\n",
       "      <td>15</td>\n",
       "      <td>19</td>\n",
       "    </tr>\n",
       "    <tr>\n",
       "      <th>14</th>\n",
       "      <td>Cole Anthony</td>\n",
       "      <td>PG</td>\n",
       "      <td>65</td>\n",
       "      <td>Cole Anthony</td>\n",
       "      <td>3449400</td>\n",
       "      <td>14</td>\n",
       "      <td>2</td>\n",
       "    </tr>\n",
       "    <tr>\n",
       "      <th>15</th>\n",
       "      <td>OG Anunoby</td>\n",
       "      <td>SF</td>\n",
       "      <td>48</td>\n",
       "      <td>OG Anunoby</td>\n",
       "      <td>16071429</td>\n",
       "      <td>NaN</td>\n",
       "      <td>NaN</td>\n",
       "    </tr>\n",
       "    <tr>\n",
       "      <th>16</th>\n",
       "      <td>Ryan Arcidiacono</td>\n",
       "      <td>PG</td>\n",
       "      <td>10</td>\n",
       "      <td>Ryan Arcidiacono</td>\n",
       "      <td>3000000</td>\n",
       "      <td>6</td>\n",
       "      <td>0</td>\n",
       "    </tr>\n",
       "    <tr>\n",
       "      <th>17</th>\n",
       "      <td>Trevor Ariza</td>\n",
       "      <td>SF</td>\n",
       "      <td>24</td>\n",
       "      <td>Trevor Ariza</td>\n",
       "      <td>1669178</td>\n",
       "      <td>NaN</td>\n",
       "      <td>NaN</td>\n",
       "    </tr>\n",
       "    <tr>\n",
       "      <th>18</th>\n",
       "      <td>D.J. Augustin</td>\n",
       "      <td>PG</td>\n",
       "      <td>55</td>\n",
       "      <td>D.J. Augustin</td>\n",
       "      <td>7000000</td>\n",
       "      <td>10</td>\n",
       "      <td>14</td>\n",
       "    </tr>\n",
       "    <tr>\n",
       "      <th>19</th>\n",
       "      <td>D.J. Augustin</td>\n",
       "      <td>PG</td>\n",
       "      <td>34</td>\n",
       "      <td>D.J. Augustin</td>\n",
       "      <td>7000000</td>\n",
       "      <td>10</td>\n",
       "      <td>14</td>\n",
       "    </tr>\n",
       "  </tbody>\n",
       "</table>\n",
       "</div>"
      ],
      "text/plain": [
       "                      Player Pos  G                      Name   Salary  PER  \\\n",
       "0           Precious Achiuwa   C 73          Precious Achiuwa  2711280   13   \n",
       "1               Steven Adams   C 76              Steven Adams 17073171   18   \n",
       "2                Bam Adebayo   C 56               Bam Adebayo 28103500   22   \n",
       "3               Santi Aldama  PF 32              Santi Aldama  1994520   10   \n",
       "4          LaMarcus Aldridge   C 47         LaMarcus Aldridge      NaN   20   \n",
       "5   Nickeil Alexander-Walker  SG 65  Nickeil Alexander-Walker  3261480   10   \n",
       "6   Nickeil Alexander-Walker  SG 50  Nickeil Alexander-Walker  3261480   10   \n",
       "7   Nickeil Alexander-Walker  SG 15  Nickeil Alexander-Walker  3261480   10   \n",
       "8              Grayson Allen  SG 66             Grayson Allen  4054695   13   \n",
       "9              Jarrett Allen   C 56             Jarrett Allen 20000000   23   \n",
       "10             Kyle Anderson  PF 69             Kyle Anderson  9937150   14   \n",
       "11     Giannis Antetokounmpo  PF 67     Giannis Antetokounmpo 39344970   32   \n",
       "12    Thanasis Antetokounmpo  SF 48    Thanasis Antetokounmpo  1669178   12   \n",
       "13           Carmelo Anthony  PF 69           Carmelo Anthony  1669178   15   \n",
       "14              Cole Anthony  PG 65              Cole Anthony  3449400   14   \n",
       "15                OG Anunoby  SF 48                OG Anunoby 16071429  NaN   \n",
       "16          Ryan Arcidiacono  PG 10          Ryan Arcidiacono  3000000    6   \n",
       "17              Trevor Ariza  SF 24              Trevor Ariza  1669178  NaN   \n",
       "18             D.J. Augustin  PG 55             D.J. Augustin  7000000   10   \n",
       "19             D.J. Augustin  PG 34             D.J. Augustin  7000000   10   \n",
       "\n",
       "    YEAR_TOTAL  \n",
       "0            2  \n",
       "1            9  \n",
       "2            5  \n",
       "3            1  \n",
       "4           16  \n",
       "5            3  \n",
       "6            3  \n",
       "7            3  \n",
       "8            4  \n",
       "9            5  \n",
       "10           8  \n",
       "11           9  \n",
       "12           8  \n",
       "13          19  \n",
       "14           2  \n",
       "15         NaN  \n",
       "16           0  \n",
       "17         NaN  \n",
       "18          14  \n",
       "19          14  "
      ]
     },
     "execution_count": 9,
     "metadata": {},
     "output_type": "execute_result"
    }
   ],
   "source": [
    "#make a new df with player and PER to merge with the reduced df above\n",
    "all_data = combine_PER_Sal.merge(reduced_PER, how= \"outer\")\n",
    "all_data.head(20)"
   ]
  },
  {
   "cell_type": "code",
   "execution_count": 10,
   "id": "39617ead",
   "metadata": {},
   "outputs": [
    {
     "data": {
      "text/html": [
       "<div>\n",
       "<style scoped>\n",
       "    .dataframe tbody tr th:only-of-type {\n",
       "        vertical-align: middle;\n",
       "    }\n",
       "\n",
       "    .dataframe tbody tr th {\n",
       "        vertical-align: top;\n",
       "    }\n",
       "\n",
       "    .dataframe thead th {\n",
       "        text-align: right;\n",
       "    }\n",
       "</style>\n",
       "<table border=\"1\" class=\"dataframe\">\n",
       "  <thead>\n",
       "    <tr style=\"text-align: right;\">\n",
       "      <th></th>\n",
       "      <th>Player</th>\n",
       "      <th>Pos</th>\n",
       "      <th>G</th>\n",
       "      <th>Name</th>\n",
       "      <th>Salary</th>\n",
       "      <th>PER</th>\n",
       "      <th>YEAR_TOTAL</th>\n",
       "      <th>Salary Categories</th>\n",
       "    </tr>\n",
       "  </thead>\n",
       "  <tbody>\n",
       "    <tr>\n",
       "      <th>0</th>\n",
       "      <td>Precious Achiuwa</td>\n",
       "      <td>C</td>\n",
       "      <td>73</td>\n",
       "      <td>Precious Achiuwa</td>\n",
       "      <td>2711280</td>\n",
       "      <td>13</td>\n",
       "      <td>2</td>\n",
       "      <td>1 to 9 mil</td>\n",
       "    </tr>\n",
       "    <tr>\n",
       "      <th>1</th>\n",
       "      <td>Steven Adams</td>\n",
       "      <td>C</td>\n",
       "      <td>76</td>\n",
       "      <td>Steven Adams</td>\n",
       "      <td>17073171</td>\n",
       "      <td>18</td>\n",
       "      <td>9</td>\n",
       "      <td>9 to 18 mil</td>\n",
       "    </tr>\n",
       "    <tr>\n",
       "      <th>2</th>\n",
       "      <td>Bam Adebayo</td>\n",
       "      <td>C</td>\n",
       "      <td>56</td>\n",
       "      <td>Bam Adebayo</td>\n",
       "      <td>28103500</td>\n",
       "      <td>22</td>\n",
       "      <td>5</td>\n",
       "      <td>27 to 36 mil</td>\n",
       "    </tr>\n",
       "    <tr>\n",
       "      <th>3</th>\n",
       "      <td>Santi Aldama</td>\n",
       "      <td>PF</td>\n",
       "      <td>32</td>\n",
       "      <td>Santi Aldama</td>\n",
       "      <td>1994520</td>\n",
       "      <td>10</td>\n",
       "      <td>1</td>\n",
       "      <td>1 to 9 mil</td>\n",
       "    </tr>\n",
       "    <tr>\n",
       "      <th>4</th>\n",
       "      <td>LaMarcus Aldridge</td>\n",
       "      <td>C</td>\n",
       "      <td>47</td>\n",
       "      <td>LaMarcus Aldridge</td>\n",
       "      <td>NaN</td>\n",
       "      <td>20</td>\n",
       "      <td>16</td>\n",
       "      <td>NaN</td>\n",
       "    </tr>\n",
       "    <tr>\n",
       "      <th>5</th>\n",
       "      <td>Nickeil Alexander-Walker</td>\n",
       "      <td>SG</td>\n",
       "      <td>65</td>\n",
       "      <td>Nickeil Alexander-Walker</td>\n",
       "      <td>3261480</td>\n",
       "      <td>10</td>\n",
       "      <td>3</td>\n",
       "      <td>1 to 9 mil</td>\n",
       "    </tr>\n",
       "    <tr>\n",
       "      <th>6</th>\n",
       "      <td>Nickeil Alexander-Walker</td>\n",
       "      <td>SG</td>\n",
       "      <td>50</td>\n",
       "      <td>Nickeil Alexander-Walker</td>\n",
       "      <td>3261480</td>\n",
       "      <td>10</td>\n",
       "      <td>3</td>\n",
       "      <td>1 to 9 mil</td>\n",
       "    </tr>\n",
       "    <tr>\n",
       "      <th>7</th>\n",
       "      <td>Nickeil Alexander-Walker</td>\n",
       "      <td>SG</td>\n",
       "      <td>15</td>\n",
       "      <td>Nickeil Alexander-Walker</td>\n",
       "      <td>3261480</td>\n",
       "      <td>10</td>\n",
       "      <td>3</td>\n",
       "      <td>1 to 9 mil</td>\n",
       "    </tr>\n",
       "    <tr>\n",
       "      <th>8</th>\n",
       "      <td>Grayson Allen</td>\n",
       "      <td>SG</td>\n",
       "      <td>66</td>\n",
       "      <td>Grayson Allen</td>\n",
       "      <td>4054695</td>\n",
       "      <td>13</td>\n",
       "      <td>4</td>\n",
       "      <td>1 to 9 mil</td>\n",
       "    </tr>\n",
       "    <tr>\n",
       "      <th>9</th>\n",
       "      <td>Jarrett Allen</td>\n",
       "      <td>C</td>\n",
       "      <td>56</td>\n",
       "      <td>Jarrett Allen</td>\n",
       "      <td>20000000</td>\n",
       "      <td>23</td>\n",
       "      <td>5</td>\n",
       "      <td>18 to 27 mil</td>\n",
       "    </tr>\n",
       "    <tr>\n",
       "      <th>10</th>\n",
       "      <td>Kyle Anderson</td>\n",
       "      <td>PF</td>\n",
       "      <td>69</td>\n",
       "      <td>Kyle Anderson</td>\n",
       "      <td>9937150</td>\n",
       "      <td>14</td>\n",
       "      <td>8</td>\n",
       "      <td>9 to 18 mil</td>\n",
       "    </tr>\n",
       "    <tr>\n",
       "      <th>11</th>\n",
       "      <td>Giannis Antetokounmpo</td>\n",
       "      <td>PF</td>\n",
       "      <td>67</td>\n",
       "      <td>Giannis Antetokounmpo</td>\n",
       "      <td>39344970</td>\n",
       "      <td>32</td>\n",
       "      <td>9</td>\n",
       "      <td>36 to 45 mil</td>\n",
       "    </tr>\n",
       "    <tr>\n",
       "      <th>12</th>\n",
       "      <td>Thanasis Antetokounmpo</td>\n",
       "      <td>SF</td>\n",
       "      <td>48</td>\n",
       "      <td>Thanasis Antetokounmpo</td>\n",
       "      <td>1669178</td>\n",
       "      <td>12</td>\n",
       "      <td>8</td>\n",
       "      <td>1 to 9 mil</td>\n",
       "    </tr>\n",
       "    <tr>\n",
       "      <th>13</th>\n",
       "      <td>Carmelo Anthony</td>\n",
       "      <td>PF</td>\n",
       "      <td>69</td>\n",
       "      <td>Carmelo Anthony</td>\n",
       "      <td>1669178</td>\n",
       "      <td>15</td>\n",
       "      <td>19</td>\n",
       "      <td>1 to 9 mil</td>\n",
       "    </tr>\n",
       "    <tr>\n",
       "      <th>14</th>\n",
       "      <td>Cole Anthony</td>\n",
       "      <td>PG</td>\n",
       "      <td>65</td>\n",
       "      <td>Cole Anthony</td>\n",
       "      <td>3449400</td>\n",
       "      <td>14</td>\n",
       "      <td>2</td>\n",
       "      <td>1 to 9 mil</td>\n",
       "    </tr>\n",
       "    <tr>\n",
       "      <th>15</th>\n",
       "      <td>OG Anunoby</td>\n",
       "      <td>SF</td>\n",
       "      <td>48</td>\n",
       "      <td>OG Anunoby</td>\n",
       "      <td>16071429</td>\n",
       "      <td>NaN</td>\n",
       "      <td>NaN</td>\n",
       "      <td>9 to 18 mil</td>\n",
       "    </tr>\n",
       "    <tr>\n",
       "      <th>16</th>\n",
       "      <td>Ryan Arcidiacono</td>\n",
       "      <td>PG</td>\n",
       "      <td>10</td>\n",
       "      <td>Ryan Arcidiacono</td>\n",
       "      <td>3000000</td>\n",
       "      <td>6</td>\n",
       "      <td>0</td>\n",
       "      <td>1 to 9 mil</td>\n",
       "    </tr>\n",
       "    <tr>\n",
       "      <th>17</th>\n",
       "      <td>Trevor Ariza</td>\n",
       "      <td>SF</td>\n",
       "      <td>24</td>\n",
       "      <td>Trevor Ariza</td>\n",
       "      <td>1669178</td>\n",
       "      <td>NaN</td>\n",
       "      <td>NaN</td>\n",
       "      <td>1 to 9 mil</td>\n",
       "    </tr>\n",
       "    <tr>\n",
       "      <th>18</th>\n",
       "      <td>D.J. Augustin</td>\n",
       "      <td>PG</td>\n",
       "      <td>55</td>\n",
       "      <td>D.J. Augustin</td>\n",
       "      <td>7000000</td>\n",
       "      <td>10</td>\n",
       "      <td>14</td>\n",
       "      <td>1 to 9 mil</td>\n",
       "    </tr>\n",
       "    <tr>\n",
       "      <th>19</th>\n",
       "      <td>D.J. Augustin</td>\n",
       "      <td>PG</td>\n",
       "      <td>34</td>\n",
       "      <td>D.J. Augustin</td>\n",
       "      <td>7000000</td>\n",
       "      <td>10</td>\n",
       "      <td>14</td>\n",
       "      <td>1 to 9 mil</td>\n",
       "    </tr>\n",
       "  </tbody>\n",
       "</table>\n",
       "</div>"
      ],
      "text/plain": [
       "                      Player Pos  G                      Name   Salary  PER  \\\n",
       "0           Precious Achiuwa   C 73          Precious Achiuwa  2711280   13   \n",
       "1               Steven Adams   C 76              Steven Adams 17073171   18   \n",
       "2                Bam Adebayo   C 56               Bam Adebayo 28103500   22   \n",
       "3               Santi Aldama  PF 32              Santi Aldama  1994520   10   \n",
       "4          LaMarcus Aldridge   C 47         LaMarcus Aldridge      NaN   20   \n",
       "5   Nickeil Alexander-Walker  SG 65  Nickeil Alexander-Walker  3261480   10   \n",
       "6   Nickeil Alexander-Walker  SG 50  Nickeil Alexander-Walker  3261480   10   \n",
       "7   Nickeil Alexander-Walker  SG 15  Nickeil Alexander-Walker  3261480   10   \n",
       "8              Grayson Allen  SG 66             Grayson Allen  4054695   13   \n",
       "9              Jarrett Allen   C 56             Jarrett Allen 20000000   23   \n",
       "10             Kyle Anderson  PF 69             Kyle Anderson  9937150   14   \n",
       "11     Giannis Antetokounmpo  PF 67     Giannis Antetokounmpo 39344970   32   \n",
       "12    Thanasis Antetokounmpo  SF 48    Thanasis Antetokounmpo  1669178   12   \n",
       "13           Carmelo Anthony  PF 69           Carmelo Anthony  1669178   15   \n",
       "14              Cole Anthony  PG 65              Cole Anthony  3449400   14   \n",
       "15                OG Anunoby  SF 48                OG Anunoby 16071429  NaN   \n",
       "16          Ryan Arcidiacono  PG 10          Ryan Arcidiacono  3000000    6   \n",
       "17              Trevor Ariza  SF 24              Trevor Ariza  1669178  NaN   \n",
       "18             D.J. Augustin  PG 55             D.J. Augustin  7000000   10   \n",
       "19             D.J. Augustin  PG 34             D.J. Augustin  7000000   10   \n",
       "\n",
       "    YEAR_TOTAL Salary Categories  \n",
       "0            2        1 to 9 mil  \n",
       "1            9       9 to 18 mil  \n",
       "2            5      27 to 36 mil  \n",
       "3            1        1 to 9 mil  \n",
       "4           16               NaN  \n",
       "5            3        1 to 9 mil  \n",
       "6            3        1 to 9 mil  \n",
       "7            3        1 to 9 mil  \n",
       "8            4        1 to 9 mil  \n",
       "9            5      18 to 27 mil  \n",
       "10           8       9 to 18 mil  \n",
       "11           9      36 to 45 mil  \n",
       "12           8        1 to 9 mil  \n",
       "13          19        1 to 9 mil  \n",
       "14           2        1 to 9 mil  \n",
       "15         NaN       9 to 18 mil  \n",
       "16           0        1 to 9 mil  \n",
       "17         NaN        1 to 9 mil  \n",
       "18          14        1 to 9 mil  \n",
       "19          14        1 to 9 mil  "
      ]
     },
     "execution_count": 10,
     "metadata": {},
     "output_type": "execute_result"
    }
   ],
   "source": [
    "#Create bins for salary (7 bins in total)\n",
    "#would it make any sense to only examine the top 10 highest paid and the\n",
    "#10 lowest paid NBA players? The graph here would be cleaner and less cluttered\n",
    "salary_bins = [0, 999999, 8999999, 17999999, 26999999, 35999999, 44999999, 54000000]\n",
    "bin_names = [\"Under a million\", \"1 to 9 mil\", \"9 to 18 mil\", \"18 to 27 mil\",\n",
    "            \"27 to 36 mil\", \"36 to 45 mil\", \"Over 45 mil\"]\n",
    "all_data[\"Salary Categories\"] = pd.cut(all_data[\"Salary\"], bins = salary_bins, labels= bin_names, include_lowest = True)\n",
    "#Groupby group players into their bins by salary\n",
    "all_data.head(20)"
   ]
  },
  {
   "cell_type": "code",
   "execution_count": 11,
   "id": "838ad720",
   "metadata": {
    "scrolled": true
   },
   "outputs": [
    {
     "name": "stdout",
     "output_type": "stream",
     "text": [
      "<class 'pandas.core.frame.DataFrame'>\n",
      "Int64Index: 695 entries, 0 to 694\n",
      "Data columns (total 8 columns):\n",
      " #   Column             Non-Null Count  Dtype   \n",
      "---  ------             --------------  -----   \n",
      " 0   Player             695 non-null    object  \n",
      " 1   Pos                614 non-null    object  \n",
      " 2   G                  614 non-null    float64 \n",
      " 3   Name               614 non-null    object  \n",
      " 4   Salary             503 non-null    float64 \n",
      " 5   PER                607 non-null    float64 \n",
      " 6   YEAR_TOTAL         607 non-null    float64 \n",
      " 7   Salary Categories  503 non-null    category\n",
      "dtypes: category(1), float64(4), object(3)\n",
      "memory usage: 44.5+ KB\n"
     ]
    }
   ],
   "source": [
    "#view the data types for each column in new dataframe\n",
    "all_data.info()"
   ]
  },
  {
   "cell_type": "code",
   "execution_count": 34,
   "id": "fa6eb640",
   "metadata": {
    "scrolled": true
   },
   "outputs": [
    {
     "data": {
      "image/png": "[encoded data removed]",
      "text/plain": [
       "<Figure size 432x360 with 1 Axes>"
      ]
     },
     "metadata": {},
     "output_type": "display_data"
    }
   ],
   "source": [
    "#groupby salary categories to visualize the number of players in each cat\n",
    "fig, ax = plt.subplots(facecolor=\"white\")\n",
    "all_data.groupby('Salary Categories').count()[\"Player\"].plot(kind='bar', ax=ax, figsize=(6,5))\n",
    "\n",
    "plt.xticks(rotation = 35)\n",
    "plt.title(\"NBA Players Salary Distribution\")\n",
    "plt.xlabel(\"Salary Categories\")\n",
    "plt.ylabel(\"Player Count\")\n",
    "plt.savefig(\"nba_sal_distrib.png\",bbox_inches='tight')\n",
    "plt.show()"
   ]
  },
  {
   "cell_type": "code",
   "execution_count": 14,
   "id": "f0337ef1",
   "metadata": {},
   "outputs": [
    {
     "data": {
      "text/plain": [
       "count   607\n",
       "mean     13\n",
       "std       6\n",
       "min     -45\n",
       "25%      11\n",
       "50%      13\n",
       "75%      16\n",
       "max      37\n",
       "Name: PER, dtype: float64"
      ]
     },
     "execution_count": 14,
     "metadata": {},
     "output_type": "execute_result"
    }
   ],
   "source": [
    "#need min/max of PER to visualize it\n",
    "all_data[\"PER\"].describe()"
   ]
  },
  {
   "cell_type": "code",
   "execution_count": 15,
   "id": "f6886d2c",
   "metadata": {},
   "outputs": [
    {
     "name": "stdout",
     "output_type": "stream",
     "text": [
      "8361916.512922465\n"
     ]
    }
   ],
   "source": [
    "#statistical summary of ALL salaries by position; average is ~ $8.4 million\n",
    "print(all_data[\"Salary\"].mean())"
   ]
  },
  {
   "cell_type": "code",
   "execution_count": 16,
   "id": "4c2612ac",
   "metadata": {},
   "outputs": [
    {
     "data": {
      "text/plain": [
       "(-1.1173625220934387,\n",
       " 1.1008267867663541,\n",
       " -1.1169750699498298,\n",
       " 1.1127361393102928)"
      ]
     },
     "execution_count": 16,
     "metadata": {},
     "output_type": "execute_result"
    },
    {
     "data": {
      "image/png": "[encoded data removed]",
      "text/plain": [
       "<Figure size 432x288 with 1 Axes>"
      ]
     },
     "metadata": {},
     "output_type": "display_data"
    }
   ],
   "source": [
    "#makin pies- this was the initial visualization; a later version is the stacked bar\n",
    "#pie labels were difficult to remove overlap on\n",
    "center_pie = all_data.loc[all_data[\"Pos\"]== \"C\"]\n",
    "center_pie\n",
    "\n",
    "center_pie_count = center_pie[\"Salary Categories\"].value_counts()\n",
    "\n",
    "colors1 = (\"darkorange\", \"lightskyblue\", \"deepskyblue\", \"dodgerblue\", \"royalblue\", \"mediumblue\", \"midnightblue\")\n",
    "labels = bin_names\n",
    "\n",
    "plt.pie(center_pie_count, colors = colors1, labels = labels, rotatelabels= True)\n",
    "plt.title(\"Center Position/Salary Cat\", loc= \"right\", fontweight= \"bold\")\n",
    "plt.axis(\"equal\")"
   ]
  },
  {
   "cell_type": "code",
   "execution_count": 17,
   "id": "9fc57dd5",
   "metadata": {},
   "outputs": [
    {
     "data": {
      "text/plain": [
       "count         90\n",
       "mean     7411925\n",
       "std      8358216\n",
       "min       925258\n",
       "25%      1701593\n",
       "50%      4100000\n",
       "75%      9720900\n",
       "max     35361360\n",
       "Name: Salary, dtype: float64"
      ]
     },
     "execution_count": 17,
     "metadata": {},
     "output_type": "execute_result"
    }
   ],
   "source": [
    "#note how many indivs are in the visual and the mean salary for centers\n",
    "center_pie_stats = center_pie[\"Salary\"].describe()\n",
    "center_pie_stats"
   ]
  },
  {
   "cell_type": "code",
   "execution_count": 18,
   "id": "0f8d8284",
   "metadata": {
    "scrolled": true
   },
   "outputs": [
    {
     "data": {
      "text/plain": [
       "(-1.1000000174304803,\n",
       " 1.1000000044986573,\n",
       " -1.121698743180493,\n",
       " 1.1010332820929156)"
      ]
     },
     "execution_count": 18,
     "metadata": {},
     "output_type": "execute_result"
    },
    {
     "data": {
      "image/png": "[encoded data removed]",
      "text/plain": [
       "<Figure size 432x288 with 1 Axes>"
      ]
     },
     "metadata": {},
     "output_type": "display_data"
    }
   ],
   "source": [
    "power_forward_pie = all_data.loc[all_data[\"Pos\"]== \"PF\"]\n",
    "power_forward_pie\n",
    "\n",
    "pf_pie_count = power_forward_pie[\"Salary Categories\"].value_counts()\n",
    "\n",
    "colors2 = (\"firebrick\", \"palegreen\", \"lime\", \"limegreen\", \"mediumseagreen\", \"green\", \"darkgreen\")\n",
    "labels = bin_names\n",
    "\n",
    "plt.pie(pf_pie_count, colors = colors2, labels = labels, rotatelabels= True)\n",
    "plt.title(\"Power Forward/Salary Cat\", loc= \"right\", fontweight= \"bold\")\n",
    "plt.axis(\"equal\")"
   ]
  },
  {
   "cell_type": "code",
   "execution_count": 19,
   "id": "8916a47b",
   "metadata": {},
   "outputs": [
    {
     "data": {
      "text/plain": [
       "count        105\n",
       "mean     8225572\n",
       "std      9511106\n",
       "min      1250000\n",
       "25%      1782621\n",
       "50%      3902439\n",
       "75%     10690909\n",
       "max     42018900\n",
       "Name: Salary, dtype: float64"
      ]
     },
     "execution_count": 19,
     "metadata": {},
     "output_type": "execute_result"
    }
   ],
   "source": [
    "power_forward_stats = power_forward_pie[\"Salary\"].describe()\n",
    "power_forward_stats"
   ]
  },
  {
   "cell_type": "code",
   "execution_count": 20,
   "id": "65179152",
   "metadata": {
    "scrolled": true
   },
   "outputs": [
    {
     "data": {
      "text/plain": [
       "(-1.1052034972495688,\n",
       " 1.1002477855833128,\n",
       " -1.106152884077274,\n",
       " 1.1034883422790445)"
      ]
     },
     "execution_count": 20,
     "metadata": {},
     "output_type": "execute_result"
    },
    {
     "data": {
      "image/png": "[encoded data removed]",
      "text/plain": [
       "<Figure size 432x288 with 1 Axes>"
      ]
     },
     "metadata": {},
     "output_type": "display_data"
    }
   ],
   "source": [
    "small_forward_pie = all_data.loc[all_data[\"Pos\"]== \"SF\"]\n",
    "small_forward_pie\n",
    "\n",
    "sf_pie_count = small_forward_pie[\"Salary Categories\"].value_counts()\n",
    "\n",
    "colors3 = (\"mediumpurple\", \"lightgoldenrodyellow\", \"palegoldenrod\", \"yellow\", \"gold\", \"goldenrod\", \"green\", \"darkgoldenrod\")\n",
    "labels = bin_names\n",
    "\n",
    "plt.pie(sf_pie_count, colors = colors3, labels = labels, rotatelabels= True)\n",
    "plt.title(\"Small Forward/Salary Cat\", loc= \"right\", fontweight= \"bold\")\n",
    "plt.axis(\"equal\")"
   ]
  },
  {
   "cell_type": "code",
   "execution_count": 21,
   "id": "43e88b4f",
   "metadata": {},
   "outputs": [
    {
     "data": {
      "text/plain": [
       "count         93\n",
       "mean     6619057\n",
       "std      7926859\n",
       "min      1057260\n",
       "25%      1701593\n",
       "50%      4235160\n",
       "75%      6006420\n",
       "max     36016200\n",
       "Name: Salary, dtype: float64"
      ]
     },
     "execution_count": 21,
     "metadata": {},
     "output_type": "execute_result"
    }
   ],
   "source": [
    "small_forward_stats = small_forward_pie[\"Salary\"].describe()\n",
    "small_forward_stats"
   ]
  },
  {
   "cell_type": "code",
   "execution_count": 22,
   "id": "0d978815",
   "metadata": {
    "scrolled": true
   },
   "outputs": [
    {
     "data": {
      "text/plain": [
       "(-1.1141905341886613,\n",
       " 1.1006757397232696,\n",
       " -1.100536438220691,\n",
       " 1.1112649386087314)"
      ]
     },
     "execution_count": 22,
     "metadata": {},
     "output_type": "execute_result"
    },
    {
     "data": {
      "image/png": "[encoded data removed]",
      "text/plain": [
       "<Figure size 432x288 with 1 Axes>"
      ]
     },
     "metadata": {},
     "output_type": "display_data"
    }
   ],
   "source": [
    "shooting_guard_pie = all_data.loc[all_data[\"Pos\"]== \"SG\"]\n",
    "shooting_guard_pie\n",
    "\n",
    "sg_pie_count = shooting_guard_pie[\"Salary Categories\"].value_counts()\n",
    "\n",
    "colors4 = (\"darkcyan\", \"peachpuff\", \"sandybrown\", \"coral\", \"orange\", \"darkorange\", \"orangered\")\n",
    "labels = bin_names\n",
    "\n",
    "plt.pie(sg_pie_count, colors = colors4, labels = labels, rotatelabels= True)\n",
    "plt.title(\"Shooting Guard/Salary Cat\", loc= \"right\", fontweight= \"bold\")\n",
    "plt.axis(\"equal\")"
   ]
  },
  {
   "cell_type": "code",
   "execution_count": 23,
   "id": "873dc61b",
   "metadata": {},
   "outputs": [
    {
     "data": {
      "text/plain": [
       "count        124\n",
       "mean     8512443\n",
       "std      8299012\n",
       "min       925258\n",
       "25%      2129370\n",
       "50%      4500000\n",
       "75%     12440000\n",
       "max     37980720\n",
       "Name: Salary, dtype: float64"
      ]
     },
     "execution_count": 23,
     "metadata": {},
     "output_type": "execute_result"
    }
   ],
   "source": [
    "shooting_guard_stats = shooting_guard_pie[\"Salary\"].describe()\n",
    "shooting_guard_stats"
   ]
  },
  {
   "cell_type": "code",
   "execution_count": 24,
   "id": "0e5c83d2",
   "metadata": {
    "scrolled": false
   },
   "outputs": [
    {
     "data": {
      "image/png": "[encoded data removed]",
      "text/plain": [
       "<Figure size 432x288 with 1 Axes>"
      ]
     },
     "metadata": {},
     "output_type": "display_data"
    }
   ],
   "source": [
    "point_guard_pie = all_data.loc[all_data[\"Pos\"]== \"PG\"]\n",
    "point_guard_pie\n",
    "\n",
    "pg_pie_count = point_guard_pie[\"Salary Categories\"].value_counts()\n",
    "\n",
    "colors5 = (\"gold\", \"thistle\", \"plum\", \"orchid\", \"mediumorchid\", \"blueviolet\", \"indigo\")\n",
    "labels = bin_names\n",
    "\n",
    "plt.pie(pg_pie_count, colors = colors5, labels = labels, rotatelabels= True)\n",
    "plt.title(\"Power Guard/Salary Cat\", loc= \"right\", fontweight= \"bold\")\n",
    "plt.axis(\"equal\")\n",
    "plt.savefig(\"pg_sal_pie.png\")\n",
    "plt.show()"
   ]
  },
  {
   "cell_type": "code",
   "execution_count": 25,
   "id": "7e8cc5b0",
   "metadata": {},
   "outputs": [
    {
     "data": {
      "text/plain": [
       "count         82\n",
       "mean    11406286\n",
       "std     12612009\n",
       "min       925258\n",
       "25%      3000000\n",
       "50%      5534106\n",
       "75%     16232220\n",
       "max     45780966\n",
       "Name: Salary, dtype: float64"
      ]
     },
     "execution_count": 25,
     "metadata": {},
     "output_type": "execute_result"
    }
   ],
   "source": [
    "point_guard_stats = point_guard_pie[\"Salary\"].describe()\n",
    "point_guard_stats"
   ]
  },
  {
   "cell_type": "code",
   "execution_count": 26,
   "id": "35e3b67b",
   "metadata": {},
   "outputs": [
    {
     "name": "stdout",
     "output_type": "stream",
     "text": [
      "[['C', 1, 63, 16, 3, 7, 0, 0], ['PF', 0, 70, 22, 7, 2, 4, 0], ['SG', 2, 78, 30, 7, 6, 1, 0], ['SF', 0, 76, 10, 1, 5, 1, 0], ['PG', 2, 52, 10, 6, 5, 6, 1]]\n"
     ]
    },
    {
     "data": {
      "text/html": [
       "<div>\n",
       "<style scoped>\n",
       "    .dataframe tbody tr th:only-of-type {\n",
       "        vertical-align: middle;\n",
       "    }\n",
       "\n",
       "    .dataframe tbody tr th {\n",
       "        vertical-align: top;\n",
       "    }\n",
       "\n",
       "    .dataframe thead th {\n",
       "        text-align: right;\n",
       "    }\n",
       "</style>\n",
       "<table border=\"1\" class=\"dataframe\">\n",
       "  <thead>\n",
       "    <tr style=\"text-align: right;\">\n",
       "      <th></th>\n",
       "      <th>0</th>\n",
       "      <th>1</th>\n",
       "      <th>2</th>\n",
       "      <th>3</th>\n",
       "      <th>4</th>\n",
       "      <th>5</th>\n",
       "      <th>6</th>\n",
       "      <th>7</th>\n",
       "    </tr>\n",
       "    <tr>\n",
       "      <th>0</th>\n",
       "      <th></th>\n",
       "      <th></th>\n",
       "      <th></th>\n",
       "      <th></th>\n",
       "      <th></th>\n",
       "      <th></th>\n",
       "      <th></th>\n",
       "      <th></th>\n",
       "    </tr>\n",
       "  </thead>\n",
       "  <tbody>\n",
       "    <tr>\n",
       "      <th>C</th>\n",
       "      <td>C</td>\n",
       "      <td>1</td>\n",
       "      <td>63</td>\n",
       "      <td>16</td>\n",
       "      <td>3</td>\n",
       "      <td>7</td>\n",
       "      <td>0</td>\n",
       "      <td>0</td>\n",
       "    </tr>\n",
       "    <tr>\n",
       "      <th>PF</th>\n",
       "      <td>PF</td>\n",
       "      <td>0</td>\n",
       "      <td>70</td>\n",
       "      <td>22</td>\n",
       "      <td>7</td>\n",
       "      <td>2</td>\n",
       "      <td>4</td>\n",
       "      <td>0</td>\n",
       "    </tr>\n",
       "    <tr>\n",
       "      <th>SG</th>\n",
       "      <td>SG</td>\n",
       "      <td>2</td>\n",
       "      <td>78</td>\n",
       "      <td>30</td>\n",
       "      <td>7</td>\n",
       "      <td>6</td>\n",
       "      <td>1</td>\n",
       "      <td>0</td>\n",
       "    </tr>\n",
       "    <tr>\n",
       "      <th>SF</th>\n",
       "      <td>SF</td>\n",
       "      <td>0</td>\n",
       "      <td>76</td>\n",
       "      <td>10</td>\n",
       "      <td>1</td>\n",
       "      <td>5</td>\n",
       "      <td>1</td>\n",
       "      <td>0</td>\n",
       "    </tr>\n",
       "    <tr>\n",
       "      <th>PG</th>\n",
       "      <td>PG</td>\n",
       "      <td>2</td>\n",
       "      <td>52</td>\n",
       "      <td>10</td>\n",
       "      <td>6</td>\n",
       "      <td>5</td>\n",
       "      <td>6</td>\n",
       "      <td>1</td>\n",
       "    </tr>\n",
       "  </tbody>\n",
       "</table>\n",
       "</div>"
      ],
      "text/plain": [
       "     0  1   2   3  4  5  6  7\n",
       "0                            \n",
       "C    C  1  63  16  3  7  0  0\n",
       "PF  PF  0  70  22  7  2  4  0\n",
       "SG  SG  2  78  30  7  6  1  0\n",
       "SF  SF  0  76  10  1  5  1  0\n",
       "PG  PG  2  52  10  6  5  6  1"
      ]
     },
     "execution_count": 26,
     "metadata": {},
     "output_type": "execute_result"
    }
   ],
   "source": [
    "#creating variables to pass into a for loop to compare salary cat to position\n",
    "position = ['C', 'PF', 'SG', 'SF', 'PG']\n",
    "salary_unique = ['Under a million', '1 to 9 mil', '9 to 18 mil',\n",
    "                 '18 to 27 mil', '27 to 36 mil', '36 to 45 mil', \n",
    "                 'Over 45 mil']\n",
    "\n",
    "salary_pos_df = []\n",
    "\n",
    "for pos in position:\n",
    "    cat_list = []\n",
    "    cat_list.append(pos)\n",
    "    \n",
    "    for sal in salary_unique:\n",
    "        count_df = all_data.loc[(all_data['Salary Categories']==sal) & (all_data['Pos']==pos)]\n",
    "        count = count_df.groupby('Salary Categories').agg({\"Player\":\"count\"})\n",
    "        count = count['Player'].sum()\n",
    "        cat_list.append(count)\n",
    "\n",
    "    salary_pos_df.append(cat_list)\n",
    "\n",
    "print(salary_pos_df)\n",
    "salary_pos_df = pd.DataFrame(salary_pos_df)\n",
    "salary_pos_df.set_index(salary_pos_df[0], inplace=True)\n",
    "# salary_pos_df.drop(salary_pos_df[0], inplace=True)\n",
    "salary_pos_df"
   ]
  },
  {
   "cell_type": "code",
   "execution_count": 35,
   "id": "15f5cb05",
   "metadata": {
    "scrolled": true
   },
   "outputs": [
    {
     "data": {
      "image/png": "[encoded data removed]",
      "text/plain": [
       "<Figure size 432x360 with 1 Axes>"
      ]
     },
     "metadata": {},
     "output_type": "display_data"
    }
   ],
   "source": [
    "#stacked bar plot from the previous df\n",
    "fig, ax = plt.subplots(facecolor=\"white\")\n",
    "salary_pos_df.plot.bar(stacked=True, ax=ax, figsize=(6,5))\n",
    "plt.xlabel('Position')\n",
    "plt.ylabel('Player Count by Salary')\n",
    "plt.title('Salaries by Player Position')\n",
    "plt.ylim(0,160)\n",
    "plt.legend(loc= 'best', ncol=3, labels=salary_unique, frameon=False)\n",
    "plt.savefig(\"sal_by_position.png\")\n",
    "plt.show()"
   ]
  },
  {
   "cell_type": "code",
   "execution_count": 28,
   "id": "5f8c32be",
   "metadata": {},
   "outputs": [
    {
     "data": {
      "text/plain": [
       "Player        Willy Hernangomez\n",
       "G                            76\n",
       "Salary                 45780966\n",
       "PER                          37\n",
       "YEAR_TOTAL                   19\n",
       "dtype: object"
      ]
     },
     "execution_count": 28,
     "metadata": {},
     "output_type": "execute_result"
    }
   ],
   "source": [
    "#Worst and best PER overall\n",
    "#min is -45, max is 37\n",
    "#on Wikipedia, states that the average PER =15, and a (weak) MVP is above 25\n",
    "\n",
    "PER_df = pd.DataFrame(all_data.loc[all_data['PER'] >20, :])\n",
    "PER_df.max()"
   ]
  },
  {
   "cell_type": "code",
   "execution_count": 29,
   "id": "7388900c",
   "metadata": {},
   "outputs": [
    {
     "data": {
      "text/plain": [
       "Player        Andre Drummond\n",
       "G                          2\n",
       "Salary               1517981\n",
       "PER                       20\n",
       "YEAR_TOTAL                 0\n",
       "dtype: object"
      ]
     },
     "execution_count": 29,
     "metadata": {},
     "output_type": "execute_result"
    }
   ],
   "source": [
    "PER_df.min()"
   ]
  },
  {
   "cell_type": "code",
   "execution_count": 30,
   "id": "f2fc3fc6",
   "metadata": {},
   "outputs": [
    {
     "data": {
      "text/plain": [
       "Player               Sharife Cooper\n",
       "G                                13\n",
       "Salary                          NaN\n",
       "PER                              -0\n",
       "YEAR_TOTAL                        4\n",
       "Salary Categories               NaN\n",
       "dtype: object"
      ]
     },
     "execution_count": 30,
     "metadata": {},
     "output_type": "execute_result"
    }
   ],
   "source": [
    "PER_df = pd.DataFrame(all_data.loc[all_data['PER'] <0, :])\n",
    "PER_df.max()"
   ]
  },
  {
   "cell_type": "code",
   "execution_count": 31,
   "id": "9cd37c3c",
   "metadata": {},
   "outputs": [
    {
     "data": {
      "text/plain": [
       "Player               Anthony Lamb\n",
       "G                               2\n",
       "Salary                        NaN\n",
       "PER                           -45\n",
       "YEAR_TOTAL                      0\n",
       "Salary Categories             NaN\n",
       "dtype: object"
      ]
     },
     "execution_count": 31,
     "metadata": {},
     "output_type": "execute_result"
    }
   ],
   "source": [
    "PER_df = pd.DataFrame(all_data.loc[all_data['PER'] <0, :])\n",
    "PER_df.min()"
   ]
  },
  {
   "cell_type": "code",
   "execution_count": 32,
   "id": "c5aaf9ab",
   "metadata": {},
   "outputs": [
    {
     "data": {
      "text/html": [
       "<div>\n",
       "<style scoped>\n",
       "    .dataframe tbody tr th:only-of-type {\n",
       "        vertical-align: middle;\n",
       "    }\n",
       "\n",
       "    .dataframe tbody tr th {\n",
       "        vertical-align: top;\n",
       "    }\n",
       "\n",
       "    .dataframe thead th {\n",
       "        text-align: right;\n",
       "    }\n",
       "</style>\n",
       "<table border=\"1\" class=\"dataframe\">\n",
       "  <thead>\n",
       "    <tr style=\"text-align: right;\">\n",
       "      <th></th>\n",
       "      <th>Player</th>\n",
       "      <th>Pos</th>\n",
       "      <th>G</th>\n",
       "      <th>Name</th>\n",
       "      <th>Salary</th>\n",
       "      <th>PER</th>\n",
       "      <th>YEAR_TOTAL</th>\n",
       "      <th>Salary Categories</th>\n",
       "    </tr>\n",
       "  </thead>\n",
       "  <tbody>\n",
       "    <tr>\n",
       "      <th>11</th>\n",
       "      <td>Giannis Antetokounmpo</td>\n",
       "      <td>PF</td>\n",
       "      <td>67</td>\n",
       "      <td>Giannis Antetokounmpo</td>\n",
       "      <td>39344970</td>\n",
       "      <td>32</td>\n",
       "      <td>9</td>\n",
       "      <td>36 to 45 mil</td>\n",
       "    </tr>\n",
       "  </tbody>\n",
       "</table>\n",
       "</div>"
      ],
      "text/plain": [
       "                   Player Pos  G                   Name   Salary  PER  \\\n",
       "11  Giannis Antetokounmpo  PF 67  Giannis Antetokounmpo 39344970   32   \n",
       "\n",
       "    YEAR_TOTAL Salary Categories  \n",
       "11           9      36 to 45 mil  "
      ]
     },
     "execution_count": 32,
     "metadata": {},
     "output_type": "execute_result"
    }
   ],
   "source": [
    "famousnames_df = pd.DataFrame(all_data.loc[all_data['Player']== \"Giannis Antetokounmpo\", :])\n",
    "famousnames_df"
   ]
  },
  {
   "cell_type": "code",
   "execution_count": 33,
   "id": "975333dd",
   "metadata": {},
   "outputs": [
    {
     "data": {
      "text/html": [
       "<div>\n",
       "<style scoped>\n",
       "    .dataframe tbody tr th:only-of-type {\n",
       "        vertical-align: middle;\n",
       "    }\n",
       "\n",
       "    .dataframe tbody tr th {\n",
       "        vertical-align: top;\n",
       "    }\n",
       "\n",
       "    .dataframe thead th {\n",
       "        text-align: right;\n",
       "    }\n",
       "</style>\n",
       "<table border=\"1\" class=\"dataframe\">\n",
       "  <thead>\n",
       "    <tr style=\"text-align: right;\">\n",
       "      <th></th>\n",
       "      <th>Player</th>\n",
       "      <th>Pos</th>\n",
       "      <th>G</th>\n",
       "      <th>Name</th>\n",
       "      <th>Salary</th>\n",
       "      <th>PER</th>\n",
       "      <th>YEAR_TOTAL</th>\n",
       "      <th>Salary Categories</th>\n",
       "    </tr>\n",
       "  </thead>\n",
       "  <tbody>\n",
       "    <tr>\n",
       "      <th>307</th>\n",
       "      <td>LeBron James</td>\n",
       "      <td>PF</td>\n",
       "      <td>56</td>\n",
       "      <td>LeBron James</td>\n",
       "      <td>41180544</td>\n",
       "      <td>26</td>\n",
       "      <td>19</td>\n",
       "      <td>36 to 45 mil</td>\n",
       "    </tr>\n",
       "  </tbody>\n",
       "</table>\n",
       "</div>"
      ],
      "text/plain": [
       "           Player Pos  G          Name   Salary  PER  YEAR_TOTAL  \\\n",
       "307  LeBron James  PF 56  LeBron James 41180544   26          19   \n",
       "\n",
       "    Salary Categories  \n",
       "307      36 to 45 mil  "
      ]
     },
     "execution_count": 33,
     "metadata": {},
     "output_type": "execute_result"
    }
   ],
   "source": [
    "famousnames_df = pd.DataFrame(all_data.loc[all_data['Player']== \"LeBron James\", :])\n",
    "famousnames_df"
   ]
  },
  {
   "cell_type": "code",
   "execution_count": 34,
   "id": "062d03cd",
   "metadata": {},
   "outputs": [
    {
     "data": {
      "text/html": [
       "<div>\n",
       "<style scoped>\n",
       "    .dataframe tbody tr th:only-of-type {\n",
       "        vertical-align: middle;\n",
       "    }\n",
       "\n",
       "    .dataframe tbody tr th {\n",
       "        vertical-align: top;\n",
       "    }\n",
       "\n",
       "    .dataframe thead th {\n",
       "        text-align: right;\n",
       "    }\n",
       "</style>\n",
       "<table border=\"1\" class=\"dataframe\">\n",
       "  <thead>\n",
       "    <tr style=\"text-align: right;\">\n",
       "      <th></th>\n",
       "      <th>Player</th>\n",
       "      <th>Pos</th>\n",
       "      <th>G</th>\n",
       "      <th>Name</th>\n",
       "      <th>Salary</th>\n",
       "      <th>PER</th>\n",
       "      <th>YEAR_TOTAL</th>\n",
       "      <th>Salary Categories</th>\n",
       "    </tr>\n",
       "  </thead>\n",
       "  <tbody>\n",
       "    <tr>\n",
       "      <th>164</th>\n",
       "      <td>Kevin Durant</td>\n",
       "      <td>PF</td>\n",
       "      <td>55</td>\n",
       "      <td>Kevin Durant</td>\n",
       "      <td>42018900</td>\n",
       "      <td>26</td>\n",
       "      <td>15</td>\n",
       "      <td>36 to 45 mil</td>\n",
       "    </tr>\n",
       "  </tbody>\n",
       "</table>\n",
       "</div>"
      ],
      "text/plain": [
       "           Player Pos  G          Name   Salary  PER  YEAR_TOTAL  \\\n",
       "164  Kevin Durant  PF 55  Kevin Durant 42018900   26          15   \n",
       "\n",
       "    Salary Categories  \n",
       "164      36 to 45 mil  "
      ]
     },
     "execution_count": 34,
     "metadata": {},
     "output_type": "execute_result"
    }
   ],
   "source": [
    "famousnames_df = pd.DataFrame(all_data.loc[all_data['Player']== \"Kevin Durant\", :])\n",
    "famousnames_df"
   ]
  },
  {
   "cell_type": "code",
   "execution_count": 35,
   "id": "13601928",
   "metadata": {},
   "outputs": [
    {
     "data": {
      "text/html": [
       "<div>\n",
       "<style scoped>\n",
       "    .dataframe tbody tr th:only-of-type {\n",
       "        vertical-align: middle;\n",
       "    }\n",
       "\n",
       "    .dataframe tbody tr th {\n",
       "        vertical-align: top;\n",
       "    }\n",
       "\n",
       "    .dataframe thead th {\n",
       "        text-align: right;\n",
       "    }\n",
       "</style>\n",
       "<table border=\"1\" class=\"dataframe\">\n",
       "  <thead>\n",
       "    <tr style=\"text-align: right;\">\n",
       "      <th></th>\n",
       "      <th>Player</th>\n",
       "      <th>Pos</th>\n",
       "      <th>G</th>\n",
       "      <th>Name</th>\n",
       "      <th>Salary</th>\n",
       "      <th>PER</th>\n",
       "      <th>YEAR_TOTAL</th>\n",
       "      <th>Salary Categories</th>\n",
       "    </tr>\n",
       "  </thead>\n",
       "  <tbody>\n",
       "    <tr>\n",
       "      <th>132</th>\n",
       "      <td>Stephen Curry</td>\n",
       "      <td>PG</td>\n",
       "      <td>64</td>\n",
       "      <td>Stephen Curry</td>\n",
       "      <td>45780966</td>\n",
       "      <td>21</td>\n",
       "      <td>13</td>\n",
       "      <td>Over 45 mil</td>\n",
       "    </tr>\n",
       "  </tbody>\n",
       "</table>\n",
       "</div>"
      ],
      "text/plain": [
       "            Player Pos  G           Name   Salary  PER  YEAR_TOTAL  \\\n",
       "132  Stephen Curry  PG 64  Stephen Curry 45780966   21          13   \n",
       "\n",
       "    Salary Categories  \n",
       "132       Over 45 mil  "
      ]
     },
     "execution_count": 35,
     "metadata": {},
     "output_type": "execute_result"
    }
   ],
   "source": [
    "famousnames_df = pd.DataFrame(all_data.loc[all_data['Player']== \"Stephen Curry\", :])\n",
    "famousnames_df"
   ]
  },
  {
   "cell_type": "code",
   "execution_count": 36,
   "id": "6041027c",
   "metadata": {},
   "outputs": [
    {
     "data": {
      "text/html": [
       "<div>\n",
       "<style scoped>\n",
       "    .dataframe tbody tr th:only-of-type {\n",
       "        vertical-align: middle;\n",
       "    }\n",
       "\n",
       "    .dataframe tbody tr th {\n",
       "        vertical-align: top;\n",
       "    }\n",
       "\n",
       "    .dataframe thead th {\n",
       "        text-align: right;\n",
       "    }\n",
       "</style>\n",
       "<table border=\"1\" class=\"dataframe\">\n",
       "  <thead>\n",
       "    <tr style=\"text-align: right;\">\n",
       "      <th></th>\n",
       "      <th>Player</th>\n",
       "      <th>Pos</th>\n",
       "      <th>G</th>\n",
       "      <th>Name</th>\n",
       "      <th>Salary</th>\n",
       "      <th>PER</th>\n",
       "      <th>YEAR_TOTAL</th>\n",
       "      <th>Salary Categories</th>\n",
       "    </tr>\n",
       "  </thead>\n",
       "  <tbody>\n",
       "    <tr>\n",
       "      <th>321</th>\n",
       "      <td>Keon Johnson</td>\n",
       "      <td>SG</td>\n",
       "      <td>37</td>\n",
       "      <td>Keon Johnson</td>\n",
       "      <td>2553120</td>\n",
       "      <td>9</td>\n",
       "      <td>1</td>\n",
       "      <td>1 to 9 mil</td>\n",
       "    </tr>\n",
       "    <tr>\n",
       "      <th>322</th>\n",
       "      <td>Keon Johnson</td>\n",
       "      <td>SG</td>\n",
       "      <td>15</td>\n",
       "      <td>Keon Johnson</td>\n",
       "      <td>2553120</td>\n",
       "      <td>9</td>\n",
       "      <td>1</td>\n",
       "      <td>1 to 9 mil</td>\n",
       "    </tr>\n",
       "    <tr>\n",
       "      <th>323</th>\n",
       "      <td>Keon Johnson</td>\n",
       "      <td>SG</td>\n",
       "      <td>22</td>\n",
       "      <td>Keon Johnson</td>\n",
       "      <td>2553120</td>\n",
       "      <td>9</td>\n",
       "      <td>1</td>\n",
       "      <td>1 to 9 mil</td>\n",
       "    </tr>\n",
       "  </tbody>\n",
       "</table>\n",
       "</div>"
      ],
      "text/plain": [
       "           Player Pos  G          Name  Salary  PER  YEAR_TOTAL  \\\n",
       "321  Keon Johnson  SG 37  Keon Johnson 2553120    9           1   \n",
       "322  Keon Johnson  SG 15  Keon Johnson 2553120    9           1   \n",
       "323  Keon Johnson  SG 22  Keon Johnson 2553120    9           1   \n",
       "\n",
       "    Salary Categories  \n",
       "321        1 to 9 mil  \n",
       "322        1 to 9 mil  \n",
       "323        1 to 9 mil  "
      ]
     },
     "execution_count": 36,
     "metadata": {},
     "output_type": "execute_result"
    }
   ],
   "source": [
    "famousnames_df = pd.DataFrame(all_data.loc[all_data['Player']== \"Keon Johnson\", :])\n",
    "famousnames_df"
   ]
  },
  {
   "cell_type": "code",
   "execution_count": 37,
   "id": "912421b3",
   "metadata": {},
   "outputs": [
    {
     "data": {
      "text/html": [
       "<div>\n",
       "<style scoped>\n",
       "    .dataframe tbody tr th:only-of-type {\n",
       "        vertical-align: middle;\n",
       "    }\n",
       "\n",
       "    .dataframe tbody tr th {\n",
       "        vertical-align: top;\n",
       "    }\n",
       "\n",
       "    .dataframe thead th {\n",
       "        text-align: right;\n",
       "    }\n",
       "</style>\n",
       "<table border=\"1\" class=\"dataframe\">\n",
       "  <thead>\n",
       "    <tr style=\"text-align: right;\">\n",
       "      <th></th>\n",
       "      <th>Player</th>\n",
       "      <th>Pos</th>\n",
       "      <th>G</th>\n",
       "      <th>Name</th>\n",
       "      <th>Salary</th>\n",
       "      <th>PER</th>\n",
       "      <th>YEAR_TOTAL</th>\n",
       "      <th>Salary Categories</th>\n",
       "    </tr>\n",
       "  </thead>\n",
       "  <tbody>\n",
       "    <tr>\n",
       "      <th>514</th>\n",
       "      <td>Terrence Ross</td>\n",
       "      <td>SG</td>\n",
       "      <td>63</td>\n",
       "      <td>Terrence Ross</td>\n",
       "      <td>12500000</td>\n",
       "      <td>10</td>\n",
       "      <td>10</td>\n",
       "      <td>9 to 18 mil</td>\n",
       "    </tr>\n",
       "  </tbody>\n",
       "</table>\n",
       "</div>"
      ],
      "text/plain": [
       "            Player Pos  G           Name   Salary  PER  YEAR_TOTAL  \\\n",
       "514  Terrence Ross  SG 63  Terrence Ross 12500000   10          10   \n",
       "\n",
       "    Salary Categories  \n",
       "514       9 to 18 mil  "
      ]
     },
     "execution_count": 37,
     "metadata": {},
     "output_type": "execute_result"
    }
   ],
   "source": [
    "famousnames_df = pd.DataFrame(all_data.loc[all_data['Player']== \"Terrence Ross\", :])\n",
    "famousnames_df"
   ]
  },
  {
   "cell_type": "code",
   "execution_count": 38,
   "id": "b7f8f611",
   "metadata": {},
   "outputs": [
    {
     "data": {
      "text/html": [
       "<div>\n",
       "<style scoped>\n",
       "    .dataframe tbody tr th:only-of-type {\n",
       "        vertical-align: middle;\n",
       "    }\n",
       "\n",
       "    .dataframe tbody tr th {\n",
       "        vertical-align: top;\n",
       "    }\n",
       "\n",
       "    .dataframe thead th {\n",
       "        text-align: right;\n",
       "    }\n",
       "</style>\n",
       "<table border=\"1\" class=\"dataframe\">\n",
       "  <thead>\n",
       "    <tr style=\"text-align: right;\">\n",
       "      <th></th>\n",
       "      <th>Player</th>\n",
       "      <th>Pos</th>\n",
       "      <th>G</th>\n",
       "      <th>Name</th>\n",
       "      <th>Salary</th>\n",
       "      <th>PER</th>\n",
       "      <th>YEAR_TOTAL</th>\n",
       "      <th>Salary Categories</th>\n",
       "    </tr>\n",
       "  </thead>\n",
       "  <tbody>\n",
       "    <tr>\n",
       "      <th>224</th>\n",
       "      <td>Jalen Green</td>\n",
       "      <td>SG</td>\n",
       "      <td>67</td>\n",
       "      <td>Jalen Green</td>\n",
       "      <td>8992200</td>\n",
       "      <td>12</td>\n",
       "      <td>1</td>\n",
       "      <td>1 to 9 mil</td>\n",
       "    </tr>\n",
       "  </tbody>\n",
       "</table>\n",
       "</div>"
      ],
      "text/plain": [
       "          Player Pos  G         Name  Salary  PER  YEAR_TOTAL  \\\n",
       "224  Jalen Green  SG 67  Jalen Green 8992200   12           1   \n",
       "\n",
       "    Salary Categories  \n",
       "224        1 to 9 mil  "
      ]
     },
     "execution_count": 38,
     "metadata": {},
     "output_type": "execute_result"
    }
   ],
   "source": [
    "famousnames_df = pd.DataFrame(all_data.loc[all_data['Player']== \"Jalen Green\", :])\n",
    "famousnames_df"
   ]
  },
  {
   "cell_type": "code",
   "execution_count": 40,
   "id": "d957b355",
   "metadata": {},
   "outputs": [
    {
     "data": {
      "image/png": "[encoded data removed]",
      "text/plain": [
       "<Figure size 432x288 with 1 Axes>"
      ]
     },
     "metadata": {
      "needs_background": "light"
     },
     "output_type": "display_data"
    }
   ],
   "source": [
    "#bar plot visualizing some famous NBA Players' PER scores against the average\n",
    "names = [\"Giannis Antetokounmpo\", \"Kevin Durant\", \"Stephen Curry\" \"Average PER\", \"Jalen Green\", \"Terrence Ross\", \"Keon Johnson\"]\n",
    "famous_PER = [32, 26, 21, 15, 12, 10, 9]\n",
    "x_axis = np.arange(len(famous_PER))\n",
    "\n",
    "bars = plt.bar(x_axis, famous_PER, color = \"b\", align = \"center\")\n",
    "tick_locations = [\"names\"]\n",
    "#plt.ticks(tick_locations, names)\n",
    "plt.xlim(-0.75, len(x_axis)-0.25)\n",
    "plt.ylim(0, max(famous_PER)+10)\n",
    "\n",
    "\n",
    "bars[0].set_color('forestgreen')\n",
    "bars[1].set_color('limegreen')\n",
    "bars[2].set_color('lime')\n",
    "bars[3].set_color('royalblue')\n",
    "bars[4].set_color('red')\n",
    "bars[5].set_color('firebrick')\n",
    "bars[6].set_color('darkred')\n",
    "\n",
    "plt.title(\"PER Explained\")\n",
    "plt.xlabel(\"NBA Players\")\n",
    "plt.ylabel(\"PER\")\n",
    "\n",
    "plt.savefig(\"PERexplained.png\")\n",
    "plt.show()"
   ]
  }
 ],
 "metadata": {
  "kernelspec": {
   "display_name": "PythonData",
   "language": "python",
   "name": "pythondata"
  },
  "language_info": {
   "codemirror_mode": {
    "name": "ipython",
    "version": 3
   },
   "file_extension": ".py",
   "mimetype": "text/x-python",
   "name": "python",
   "nbconvert_exporter": "python",
   "pygments_lexer": "ipython3",
   "version": "3.9.12"
  }
 },
 "nbformat": 4,
 "nbformat_minor": 5
}
